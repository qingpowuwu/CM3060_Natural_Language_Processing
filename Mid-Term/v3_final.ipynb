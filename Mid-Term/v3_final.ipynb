{
  "cells": [
    {
      "cell_type": "markdown",
      "metadata": {
        "id": "03JAI5daIrJi"
      },
      "source": [
        "\n",
        "# Fake News Detection Using Statistical and BERT-based Models"
      ]
    },
    {
      "cell_type": "markdown",
      "metadata": {
        "id": "aTq0DPXXIrJj"
      },
      "source": [
        "\n",
        "# I. Introduction\n",
        "\n",
        "## Introduction\n",
        "\n",
        "The proliferation of fake news in the digital age represents one of the most significant challenges to information integrity and democratic discourse. According to a comprehensive study by MIT researchers analyzing Twitter from 2006 to 2017, \"it took the truth approximately six times as long as falsehood to reach 1,500 people and 20 times as long as falsehood to reach a cascade depth of ten\" (Vosoughi et al., 2018, p. 2). This stark contrast in diffusion speed demonstrates how false information achieves significantly broader reach and engagement compared to truthful content.\n",
        "\n",
        "The impact of misinformation manifests across multiple dimensions. Economically, a comprehensive analysis by the University of Baltimore and CHEQ estimated that fake news costs the global economy $78 billion annually, \"affecting everything from stock markets to media, reputation management, election campaigns, financial information and healthcare\" (Cavazos & CHEQ, 2019). This financial impact underscores the urgent need for effective detection and prevention mechanisms.\n",
        "\n",
        "The COVID-19 pandemic has particularly highlighted the critical nature of this challenge. A Reuters Institute study found that \"the number of English-language fact-checks rose more than 900% from January to March\" in 2020, with top-down misinformation from politicians, celebrities, and other prominent public figures accounting for 69% of total social media engagement despite comprising only 20% of the claims (Brennen et al., 2020). This disparity between source volume and impact emphasizes the need for targeted intervention strategies, particularly for high-influence accounts.\n",
        "\n",
        "The World Health Organization characterizes this situation as unprecedented, noting that \"COVID-19 is the first pandemic in history in which technology and social media are being used on a massive scale to keep people safe, informed, productive and connected.\" However, this same technology is \"enabling and amplifying an infodemic that continues to undermine the global response and jeopardizes measures to control the pandemic\" (WHO et al., 2020). This duality of technology - as both enabler of information sharing and amplifier of misinformation - presents a unique challenge for researchers and practitioners in the field of automated fake news detection.\n",
        "\n",
        "The convergence of these factors - rapid spread, economic impact, influential sources, and technological amplification - creates an urgent need for sophisticated detection systems that can effectively identify and counter fake news across multiple platforms and contexts. This challenge requires innovative approaches that combine traditional statistical methods with advanced machine learning techniques to address the evolving nature of misinformation in our digital age."
      ]
    },
    {
      "cell_type": "markdown",
      "metadata": {
        "id": "L62PQLDKIrJk"
      },
      "source": [
        "\n",
        "## Domain-specific Area\n",
        "\n",
        "The domain of automated fake news detection operates at the intersection of natural language processing, machine learning, and social network analysis. A Reuters Institute analysis reveals that misinformation typically involves \"various forms of reconfiguration, where existing and often true information is spun, twisted, recontextualised, or reworked,\" with such reconfigured content accounting for \"87% of social media interactions in their sample\" (Brennen et al., 2020).\n",
        "\n",
        "### Current Landscape and Challenges\n",
        "\n",
        "1. **Content Complexity**\n",
        "   - According to MIT researchers, \"less misinformation was completely fabricated, and most (59%) involved various forms of warped, twisted, and reconfigured legitimate content\" (Vosoughi et al., 2018)\n",
        "   - The line between opinion, satire, and deliberate misinformation is increasingly blurred\n",
        "\n",
        "2. **Detection Mechanisms**\n",
        "   - Traditional approaches rely on linguistic features and fact-checking\n",
        "   - As identified by WHO, the challenge requires \"a coordinated approach among states, multi-lateral organizations, civil society and all other actors who have a clear role and responsibility in combatting mis- and disinformation\" (WHO et al., 2020)\n",
        "\n",
        "3. **Technical Considerations**\n",
        "   - The MIT study found that \"false news reached more people faster\" requiring rapid detection systems\n",
        "   - Processing requirements must match the \"six times faster\" spread rate of false information\n",
        "\n",
        "### Implementation Approach and Objectives\n",
        "\n",
        "In response to these challenges, this study conducts a comprehensive comparative analysis of different approaches for automatic fake news detection:\n",
        "\n",
        "1. **Statistical Baseline Model**\n",
        "   - Employs TF-IDF vectorization and Multinomial Naive Bayes classification, building on their proven effectiveness in text classification tasks\n",
        "   - Implements a comprehensive text preprocessing pipeline including:\n",
        "     - Lowercase conversion  \n",
        "     - Special character removal\n",
        "     - Stopword filtering\n",
        "     - Word lemmatization\n",
        "   - Utilizes 5000-dimensional TF-IDF feature vectors for efficient representation\n",
        "\n",
        "2. **Advanced BERT-based Model**\n",
        "\n",
        "  <div align=\"center\">\n",
        "  <img src=\"resources/imgs/1_bert_architecture.png\" width=\"500\"/>\n",
        "\n",
        "  *BERT Architecture for Sentence Classification (Devlin et al., 2019)*\n",
        "  </div>\n",
        "   - Implements BERT for contextual understanding, leveraging its bidirectional training architecture (Devlin et al., 2019)\n",
        "   - Develops a custom neural architecture:\n",
        "     - Pre-trained BERT encoder (bert-base-uncased)\n",
        "     - Dropout regularization (0.3 rate)\n",
        "     - Fully connected layer (768 → 384 units)\n",
        "     - ReLU activation function\n",
        "     - Output classifier (384 → 6 units)\n",
        "   - Incorporates early stopping and learning rate scheduling for optimal training\n",
        "\n",
        "3. **Comparison with Original Benchmark**\n",
        "   - Evaluates performance against the hybrid CNN model proposed in the original LIAR dataset paper (Wang, 2017)\n",
        "   - Provides direct comparison with the state-of-the-art baseline established on this dataset\n",
        "   - Analyzes improvements achieved through modern transformer-based architectures\n",
        "\n",
        "This comparative study aims to:\n",
        "- Evaluate the trade-offs between computational efficiency and classification accuracy across different model architectures\n",
        "- Assess the scalability of both traditional and deep learning approaches for real-world applications\n",
        "- Provide empirical evidence on model behavior across different veracity levels\n",
        "- Benchmark progress in automated fact-checking since the LIAR dataset's introduction\n",
        "\n",
        "Our implementation specifically tackles what the WHO describes as the need for \"timely dissemination of accurate information, based on science and evidence,\" through rapid, automated assessment of news content authenticity. The analysis of statistical, convolutional, and transformer-based approaches will contribute practical insights into the strengths and limitations of each method in addressing both \"completely fabricated\" content and more subtle \"reconfigured\" misinformation (Brennen et al., 2020)."
      ]
    },
    {
      "cell_type": "markdown",
      "metadata": {
        "id": "Dp8LP1OiIrJl"
      },
      "source": [
        "### 3. Dataset Description\n",
        "\n",
        "This study employs the LIAR dataset (Wang, 2017), a comprehensive collection designed for multi-class veracity classification. The dataset encompasses 12,836 short statements with validated truth labels, providing a challenging benchmark for automated fact-checking systems.\n",
        "\n",
        "#### Dataset Structure and Content\n",
        "Each statement in the dataset contains several key features:\n",
        "- **Statement**: The actual claim text\n",
        "- **Label**: Six-way classification (pants-fire, false, barely-true, half-true, mostly-true, true)\n",
        "- **Speaker**: Source of the statement\n",
        "- **Context**: Speaking venue or publication platform\n",
        "- **Speaker Metadata**: Job title, party affiliation, state\n",
        "- **History**: Speaker's prior accuracy metrics\n",
        "\n",
        "The dataset is partitioned into:\n",
        "- Training set: 10,269 statements\n",
        "- Validation set: 1,284 statements\n",
        "- Test set: 1,283 statements\n",
        "\n",
        "The statements average 125 words in length, providing sufficient context for both statistical and deep learning approaches. The claims are sourced from PolitiFact, a renowned fact-checking organization known for its rigorous verification process, and include statements from various political figures, public officials, and media personalities. Each statement has been extensively fact-checked and assigned one of six truth values, offering fine-grained veracity assessment.\n",
        "\n",
        "#### Limitations and Considerations\n",
        "While comprehensive, the dataset presents certain challenges:\n",
        "- Limited to English-language American political context\n",
        "- Historical nature (statements from 2007-2016) may not reflect newest misinformation patterns\n",
        "- Focus on short statements rather than long-form articles"
      ]
    },
    {
      "cell_type": "markdown",
      "metadata": {
        "id": "VsHIJf9nIrJm"
      },
      "source": [
        "### 4. Evaluation Methodology\n",
        "\n",
        "Our evaluation framework implements both weighted and unweighted training approaches to address the significant class imbalance in the LIAR dataset, where certain veracity labels (such as \"pants-fire\") appear less frequently than others (such as \"false\" or \"half-true\"). The weighted approach assigns higher importance to underrepresented classes during training, potentially improving the model's ability to detect rare but critical cases of misinformation.\n",
        "\n",
        "The model training configuration utilizes the AdamW optimizer with a learning rate of 1e-5 and weight decay of 0.01 for regularization. Training proceeds in batches of 64 samples, with gradient clipping at 1.0 to prevent exploding gradients. We implement early stopping with a patience of 3 epochs to prevent overfitting.\n",
        "\n",
        "Learning rate management employs the ReduceLROnPlateau scheduler, which reduces the learning rate by a factor of 0.1 when validation loss plateaus. The scheduler monitors validation loss with a patience of 2 epochs, ensuring optimal learning rate adjustment throughout training.\n",
        "\n",
        "For performance assessment, we calculate precision, recall, and F1-scores for each veracity class, along with their macro and weighted averages. This provides insight into model performance across different truth categories. The overall classification accuracy serves as a high-level performance indicator.\n",
        "\n",
        "Results are presented through comprehensive classification reports, accompanied by cross-model performance comparisons. We provide visualizations of per-class metrics to evaluate the effectiveness of our class balancing strategy and overall model performance across all veracity levels."
      ]
    },
    {
      "cell_type": "markdown",
      "metadata": {
        "id": "U6BR_U41IrJm"
      },
      "source": [
        "# II. Implementation"
      ]
    },
    {
      "cell_type": "code",
      "execution_count": null,
      "metadata": {
        "id": "6KHhaOwFIrJn",
        "outputId": "8727db03-6aa0-4421-ef46-c757066d040c"
      },
      "outputs": [
        {
          "name": "stderr",
          "output_type": "stream",
          "text": [
            "/home/qingpo.wuwu1/miniconda3/envs/nlp/lib/python3.8/site-packages/tqdm/auto.py:21: TqdmWarning: IProgress not found. Please update jupyter and ipywidgets. See https://ipywidgets.readthedocs.io/en/stable/user_install.html\n",
            "  from .autonotebook import tqdm as notebook_tqdm\n"
          ]
        }
      ],
      "source": [
        "import pandas as pd\n",
        "import numpy as np\n",
        "from sklearn.model_selection import train_test_split\n",
        "from sklearn.feature_extraction.text import TfidfVectorizer\n",
        "from sklearn.svm import LinearSVC\n",
        "from sklearn.metrics import classification_report, confusion_matrix\n",
        "import torch\n",
        "from transformers import BertTokenizer, BertForSequenceClassification\n",
        "import re\n",
        "import nltk\n",
        "from nltk.corpus import stopwords\n",
        "import os\n",
        "import tqdm\n",
        "import os\n",
        "import urllib.request\n",
        "import zipfile\n",
        "import matplotlib.pyplot as plt\n",
        "import pandas as pd\n",
        "from tqdm.auto import tqdm\n",
        "import seaborn as sns\n",
        "import matplotlib.pyplot as plt"
      ]
    },
    {
      "cell_type": "code",
      "execution_count": null,
      "metadata": {
        "id": "_tVYroHhIrJp",
        "outputId": "362a516e-745e-493f-8b20-221bbb35fdc8"
      },
      "outputs": [
        {
          "name": "stderr",
          "output_type": "stream",
          "text": [
            "[nltk_data] Downloading package punkt to /root/nltk_data...\n",
            "[nltk_data]   Package punkt is already up-to-date!\n",
            "[nltk_data] Downloading package stopwords to /root/nltk_data...\n",
            "[nltk_data]   Package stopwords is already up-to-date!\n",
            "[nltk_data] Downloading package punkt_tab to /root/nltk_data...\n",
            "[nltk_data]   Package punkt_tab is already up-to-date!\n",
            "[nltk_data] Downloading package punkt to /root/nltk_data...\n",
            "[nltk_data]   Package punkt is already up-to-date!\n",
            "[nltk_data] Downloading package wordnet to /root/nltk_data...\n",
            "[nltk_data]   Package wordnet is already up-to-date!\n"
          ]
        },
        {
          "data": {
            "text/plain": [
              "True"
            ]
          },
          "execution_count": 2,
          "metadata": {},
          "output_type": "execute_result"
        }
      ],
      "source": [
        "# You can remove this if you don't need to use a proxy\n",
        "os.environ['http_proxy'] = \"http://127.0.0.1:7890\"\n",
        "os.environ['https_proxy'] = \"http://127.0.0.1:7890\"\n",
        "nltk.download('punkt')\n",
        "nltk.download('stopwords')\n",
        "nltk.download('punkt_tab')\n",
        "nltk.download('punkt')\n",
        "nltk.download('wordnet')"
      ]
    },
    {
      "cell_type": "code",
      "execution_count": null,
      "metadata": {
        "id": "ihIeJqRkIrJq"
      },
      "outputs": [],
      "source": [
        "def download_liar_dataset():\n",
        "    if not os.path.exists('./resources/datasets/LIAR'):\n",
        "        os.makedirs('./resources/datasets/LIAR')\n",
        "\n",
        "    if not os.path.exists('./resources/datasets/LIAR/train.tsv'):\n",
        "        print(\"Downloading LIAR dataset...\")\n",
        "        urllib.request.urlretrieve(\n",
        "            \"https://www.cs.ucsb.edu/~william/data/liar_dataset.zip\",\n",
        "            \"liar_dataset.zip\"\n",
        "        )\n",
        "\n",
        "        print(\"Extracting files...\")\n",
        "        with zipfile.ZipFile(\"liar_dataset.zip\", 'r') as zip_ref:\n",
        "            zip_ref.extractall(\"LIAR\")\n",
        "\n",
        "        print(\"Dataset downloaded and extracted successfully!\")"
      ]
    },
    {
      "cell_type": "code",
      "execution_count": null,
      "metadata": {
        "id": "i_zjv2nDIrJq"
      },
      "outputs": [],
      "source": [
        "download_liar_dataset()"
      ]
    },
    {
      "cell_type": "markdown",
      "metadata": {
        "id": "8yjQ1XXbIrJq"
      },
      "source": [
        "## II.1 Exploratory Data Analysis"
      ]
    },
    {
      "cell_type": "code",
      "execution_count": null,
      "metadata": {
        "id": "TmbUJa0hIrJr"
      },
      "outputs": [],
      "source": [
        "sample_path = './resources/datasets/LIAR/train.tsv'\n",
        "sample_df = pd.read_csv(sample_path, sep='\\t', header=None)"
      ]
    },
    {
      "cell_type": "code",
      "execution_count": null,
      "metadata": {
        "id": "6mt0Wo-hIrJr",
        "outputId": "36782e6d-e2b7-441c-ae13-88464a650441"
      },
      "outputs": [
        {
          "name": "stdout",
          "output_type": "stream",
          "text": [
            "sample_df.info() = \n",
            "<class 'pandas.core.frame.DataFrame'>\n",
            "RangeIndex: 10240 entries, 0 to 10239\n",
            "Data columns (total 14 columns):\n",
            " #   Column  Non-Null Count  Dtype  \n",
            "---  ------  --------------  -----  \n",
            " 0   0       10240 non-null  object \n",
            " 1   1       10240 non-null  object \n",
            " 2   2       10240 non-null  object \n",
            " 3   3       10238 non-null  object \n",
            " 4   4       10238 non-null  object \n",
            " 5   5       7342 non-null   object \n",
            " 6   6       8030 non-null   object \n",
            " 7   7       10238 non-null  object \n",
            " 8   8       10238 non-null  float64\n",
            " 9   9       10238 non-null  float64\n",
            " 10  10      10238 non-null  float64\n",
            " 11  11      10238 non-null  float64\n",
            " 12  12      10238 non-null  float64\n",
            " 13  13      10138 non-null  object \n",
            "dtypes: float64(5), object(9)\n",
            "memory usage: 1.1+ MB\n",
            "None\n"
          ]
        }
      ],
      "source": [
        "print(\"sample_df.info() = \")\n",
        "print(sample_df.info())"
      ]
    },
    {
      "cell_type": "code",
      "execution_count": null,
      "metadata": {
        "id": "aRCnoUUoIrJr",
        "outputId": "397b9967-6705-4091-8a57-1edef76d27a0"
      },
      "outputs": [
        {
          "data": {
            "text/html": [
              "<div>\n",
              "<style scoped>\n",
              "    .dataframe tbody tr th:only-of-type {\n",
              "        vertical-align: middle;\n",
              "    }\n",
              "\n",
              "    .dataframe tbody tr th {\n",
              "        vertical-align: top;\n",
              "    }\n",
              "\n",
              "    .dataframe thead th {\n",
              "        text-align: right;\n",
              "    }\n",
              "</style>\n",
              "<table border=\"1\" class=\"dataframe\">\n",
              "  <thead>\n",
              "    <tr style=\"text-align: right;\">\n",
              "      <th></th>\n",
              "      <th>0</th>\n",
              "      <th>1</th>\n",
              "      <th>2</th>\n",
              "      <th>3</th>\n",
              "      <th>4</th>\n",
              "      <th>5</th>\n",
              "      <th>6</th>\n",
              "      <th>7</th>\n",
              "      <th>8</th>\n",
              "      <th>9</th>\n",
              "      <th>10</th>\n",
              "      <th>11</th>\n",
              "      <th>12</th>\n",
              "      <th>13</th>\n",
              "    </tr>\n",
              "  </thead>\n",
              "  <tbody>\n",
              "    <tr>\n",
              "      <th>0</th>\n",
              "      <td>2635.json</td>\n",
              "      <td>false</td>\n",
              "      <td>Says the Annies List political group supports ...</td>\n",
              "      <td>abortion</td>\n",
              "      <td>dwayne-bohac</td>\n",
              "      <td>State representative</td>\n",
              "      <td>Texas</td>\n",
              "      <td>republican</td>\n",
              "      <td>0.0</td>\n",
              "      <td>1.0</td>\n",
              "      <td>0.0</td>\n",
              "      <td>0.0</td>\n",
              "      <td>0.0</td>\n",
              "      <td>a mailer</td>\n",
              "    </tr>\n",
              "    <tr>\n",
              "      <th>1</th>\n",
              "      <td>10540.json</td>\n",
              "      <td>half-true</td>\n",
              "      <td>When did the decline of coal start? It started...</td>\n",
              "      <td>energy,history,job-accomplishments</td>\n",
              "      <td>scott-surovell</td>\n",
              "      <td>State delegate</td>\n",
              "      <td>Virginia</td>\n",
              "      <td>democrat</td>\n",
              "      <td>0.0</td>\n",
              "      <td>0.0</td>\n",
              "      <td>1.0</td>\n",
              "      <td>1.0</td>\n",
              "      <td>0.0</td>\n",
              "      <td>a floor speech.</td>\n",
              "    </tr>\n",
              "    <tr>\n",
              "      <th>2</th>\n",
              "      <td>324.json</td>\n",
              "      <td>mostly-true</td>\n",
              "      <td>Hillary Clinton agrees with John McCain \"by vo...</td>\n",
              "      <td>foreign-policy</td>\n",
              "      <td>barack-obama</td>\n",
              "      <td>President</td>\n",
              "      <td>Illinois</td>\n",
              "      <td>democrat</td>\n",
              "      <td>70.0</td>\n",
              "      <td>71.0</td>\n",
              "      <td>160.0</td>\n",
              "      <td>163.0</td>\n",
              "      <td>9.0</td>\n",
              "      <td>Denver</td>\n",
              "    </tr>\n",
              "    <tr>\n",
              "      <th>3</th>\n",
              "      <td>1123.json</td>\n",
              "      <td>false</td>\n",
              "      <td>Health care reform legislation is likely to ma...</td>\n",
              "      <td>health-care</td>\n",
              "      <td>blog-posting</td>\n",
              "      <td>NaN</td>\n",
              "      <td>NaN</td>\n",
              "      <td>none</td>\n",
              "      <td>7.0</td>\n",
              "      <td>19.0</td>\n",
              "      <td>3.0</td>\n",
              "      <td>5.0</td>\n",
              "      <td>44.0</td>\n",
              "      <td>a news release</td>\n",
              "    </tr>\n",
              "    <tr>\n",
              "      <th>4</th>\n",
              "      <td>9028.json</td>\n",
              "      <td>half-true</td>\n",
              "      <td>The economic turnaround started at the end of ...</td>\n",
              "      <td>economy,jobs</td>\n",
              "      <td>charlie-crist</td>\n",
              "      <td>NaN</td>\n",
              "      <td>Florida</td>\n",
              "      <td>democrat</td>\n",
              "      <td>15.0</td>\n",
              "      <td>9.0</td>\n",
              "      <td>20.0</td>\n",
              "      <td>19.0</td>\n",
              "      <td>2.0</td>\n",
              "      <td>an interview on CNN</td>\n",
              "    </tr>\n",
              "  </tbody>\n",
              "</table>\n",
              "</div>"
            ],
            "text/plain": [
              "           0            1                                                  2   \\\n",
              "0   2635.json        false  Says the Annies List political group supports ...   \n",
              "1  10540.json    half-true  When did the decline of coal start? It started...   \n",
              "2    324.json  mostly-true  Hillary Clinton agrees with John McCain \"by vo...   \n",
              "3   1123.json        false  Health care reform legislation is likely to ma...   \n",
              "4   9028.json    half-true  The economic turnaround started at the end of ...   \n",
              "\n",
              "                                   3               4                     5   \\\n",
              "0                            abortion    dwayne-bohac  State representative   \n",
              "1  energy,history,job-accomplishments  scott-surovell        State delegate   \n",
              "2                      foreign-policy    barack-obama             President   \n",
              "3                         health-care    blog-posting                   NaN   \n",
              "4                        economy,jobs   charlie-crist                   NaN   \n",
              "\n",
              "         6           7     8     9      10     11    12                   13  \n",
              "0     Texas  republican   0.0   1.0    0.0    0.0   0.0             a mailer  \n",
              "1  Virginia    democrat   0.0   0.0    1.0    1.0   0.0      a floor speech.  \n",
              "2  Illinois    democrat  70.0  71.0  160.0  163.0   9.0               Denver  \n",
              "3       NaN        none   7.0  19.0    3.0    5.0  44.0       a news release  \n",
              "4   Florida    democrat  15.0   9.0   20.0   19.0   2.0  an interview on CNN  "
            ]
          },
          "execution_count": 7,
          "metadata": {},
          "output_type": "execute_result"
        }
      ],
      "source": [
        "sample_df.head()"
      ]
    },
    {
      "cell_type": "code",
      "execution_count": null,
      "metadata": {
        "id": "HmxlNpB3IrJs"
      },
      "outputs": [],
      "source": [
        "def load_liar_dataset():\n",
        "    print(\"\\nLoading datasets...\")\n",
        "    datasets = {\n",
        "        'train': './resources/datasets/LIAR/train.tsv',\n",
        "        'valid': './resources/datasets/LIAR/valid.tsv',\n",
        "        'test': './resources/datasets/LIAR/test.tsv'\n",
        "    }\n",
        "\n",
        "    dataframes = {}\n",
        "    for name, path in tqdm(list(datasets.items()), desc=\"Loading files\"):\n",
        "        dataframes[name] = pd.read_csv(path, sep='\\t', header=None,\n",
        "                                        names=['id',\n",
        "                                               'label',\n",
        "                                               'statement',\n",
        "                                               'subject',\n",
        "                                               'speaker',\n",
        "                                               'speaker_job',\n",
        "                                               'state',\n",
        "                                               'party',\n",
        "                                               # Column 9-13: the total credit history count, including the current statement.\n",
        "                                               'barely_true_counts',\n",
        "                                               'false_counts',\n",
        "                                               'half_true_counts',\n",
        "                                               'mostly_true_counts',\n",
        "                                               'pants_on_fire_counts',\n",
        "                                               # Column 14: the context (venue / location of the speech or statement).\n",
        "                                               'context'\n",
        "                                               ])\n",
        "\n",
        "    print(f\"\\nDataset Summary:\")\n",
        "    print(f\" - Loaded {len(dataframes['train'])} training samples\")\n",
        "    print(f\" - Loaded {len(dataframes['valid'])} validation samples\")\n",
        "    print(f\" - Loaded {len(dataframes['test'])} test samples\")\n",
        "\n",
        "    return dataframes['train'], dataframes['valid'], dataframes['test']"
      ]
    },
    {
      "cell_type": "markdown",
      "metadata": {
        "id": "SC81jscGIrJs"
      },
      "source": [
        "### Distribution of news articles by class<br>"
      ]
    },
    {
      "cell_type": "code",
      "execution_count": null,
      "metadata": {
        "id": "wpnyDps3IrJs",
        "outputId": "99fee785-0d7a-4495-cb2c-126d3985e462"
      },
      "outputs": [
        {
          "name": "stdout",
          "output_type": "stream",
          "text": [
            "\n",
            "Loading datasets...\n"
          ]
        },
        {
          "name": "stderr",
          "output_type": "stream",
          "text": [
            "Loading files: 100%|██████████| 3/3 [00:00<00:00, 63.40it/s]\n"
          ]
        },
        {
          "name": "stdout",
          "output_type": "stream",
          "text": [
            "\n",
            "Dataset Summary:\n",
            " - Loaded 10240 training samples\n",
            " - Loaded 1284 validation samples\n",
            " - Loaded 1267 test samples\n"
          ]
        },
        {
          "data": {
            "image/png": "[encoded data removed]",
            "text/plain": [
              "<Figure size 1800x600 with 3 Axes>"
            ]
          },
          "metadata": {},
          "output_type": "display_data"
        },
        {
          "name": "stdout",
          "output_type": "stream",
          "text": [
            "Train Label Distribution:\n",
            "label\n",
            "barely-true    1654\n",
            "false          1995\n",
            "half-true      2114\n",
            "mostly-true    1962\n",
            "pants-fire      839\n",
            "true           1676\n",
            "Name: count, dtype: int64\n",
            "\n",
            "Valid Label Distribution:\n",
            "label\n",
            "barely-true    237\n",
            "false          263\n",
            "half-true      248\n",
            "mostly-true    251\n",
            "pants-fire     116\n",
            "true           169\n",
            "Name: count, dtype: int64\n",
            "\n",
            "Test Label Distribution:\n",
            "label\n",
            "barely-true    212\n",
            "false          249\n",
            "half-true      265\n",
            "mostly-true    241\n",
            "pants-fire      92\n",
            "true           208\n",
            "Name: count, dtype: int64\n"
          ]
        }
      ],
      "source": [
        "import seaborn as sns\n",
        "import matplotlib.pyplot as plt\n",
        "\n",
        "train_df, valid_df, test_df = load_liar_dataset()\n",
        "\n",
        "# Define the order of labels\n",
        "label_order = ['half-true', 'false', 'mostly-true', 'true', 'barely-true', 'pants-fire']\n",
        "\n",
        "# Plot label distribution for train, valid, and test datasets\n",
        "fig, axes = plt.subplots(1, 3, figsize=(18, 6), sharey=True)\n",
        "\n",
        "sns.countplot(data=train_df, x='label', ax=axes[0], order=label_order)\n",
        "axes[0].set_title('Train Label Distribution')\n",
        "axes[0].set_xlabel('Label')\n",
        "axes[0].set_ylabel('Count')\n",
        "\n",
        "sns.countplot(data=valid_df, x='label', ax=axes[1], order=label_order)\n",
        "axes[1].set_title('Valid Label Distribution')\n",
        "axes[1].set_xlabel('Label')\n",
        "axes[1].set_ylabel('Count')\n",
        "\n",
        "sns.countplot(data=test_df, x='label', ax=axes[2], order=label_order)\n",
        "axes[2].set_title('Test Label Distribution')\n",
        "axes[2].set_xlabel('Label')\n",
        "axes[2].set_ylabel('Count')\n",
        "\n",
        "plt.tight_layout()\n",
        "plt.show()\n",
        "\n",
        "# Print label distribution for train, valid, and test datasets\n",
        "print(\"Train Label Distribution:\")\n",
        "print(train_df['label'].value_counts().sort_index())\n",
        "\n",
        "print(\"\\nValid Label Distribution:\")\n",
        "print(valid_df['label'].value_counts().sort_index())\n",
        "\n",
        "print(\"\\nTest Label Distribution:\")\n",
        "print(test_df['label'].value_counts().sort_index())"
      ]
    },
    {
      "cell_type": "code",
      "execution_count": null,
      "metadata": {
        "id": "5CohWGsBIrJs",
        "outputId": "6032fcaa-ee6f-48c1-eb04-b9e1c4568d1c"
      },
      "outputs": [
        {
          "data": {
            "text/plain": [
              "id                      10240\n",
              "label                   10240\n",
              "statement               10240\n",
              "subject                 10238\n",
              "speaker                 10238\n",
              "speaker_job              7342\n",
              "state                    8030\n",
              "party                   10238\n",
              "barely_true_counts      10238\n",
              "false_counts            10238\n",
              "half_true_counts        10238\n",
              "mostly_true_counts      10238\n",
              "pants_on_fire_counts    10238\n",
              "context                 10138\n",
              "dtype: int64"
            ]
          },
          "execution_count": 10,
          "metadata": {},
          "output_type": "execute_result"
        }
      ],
      "source": [
        "train_df.count()"
      ]
    },
    {
      "cell_type": "markdown",
      "metadata": {
        "id": "D9KT-YERIrJu"
      },
      "source": [
        "The distribution reveals a notable class imbalance across all dataset splits (train, validation, and test), and this imbalanced pattern is proportionally maintained in both validation and test sets, with \"pants-fire\" consistently having the lowest sample count (116 and 92 samples respectively)."
      ]
    },
    {
      "cell_type": "markdown",
      "metadata": {
        "id": "fIF7m-H6IrJu"
      },
      "source": [
        "## II.2 Data Preprocessing"
      ]
    },
    {
      "cell_type": "markdown",
      "metadata": {
        "id": "SnvQCI10IrJv"
      },
      "source": [
        "To prepare our dataset for model training, we implement a comprehensive preprocessing pipeline that includes both text preprocessing and data encoding. The text preprocessing steps include converting text to lowercase, removing special characters and numbers, eliminating stopwords, and applying lemmatization to standardize word forms. For feature extraction, we utilize TF-IDF vectorization with 5000 features, and implement label encoding for our six veracity classes."
      ]
    },
    {
      "cell_type": "code",
      "execution_count": null,
      "metadata": {
        "id": "y_Q-keNLIrJv"
      },
      "outputs": [],
      "source": [
        "from sklearn.preprocessing import LabelEncoder\n",
        "from nltk.tokenize import word_tokenize\n",
        "from nltk.corpus import stopwords\n",
        "from nltk.stem import WordNetLemmatizer\n",
        "import nltk"
      ]
    },
    {
      "cell_type": "code",
      "execution_count": null,
      "metadata": {
        "id": "4CZt4UE_IrJv"
      },
      "outputs": [],
      "source": [
        "def preprocess_text(text):\n",
        "    \"\"\"\n",
        "    Preprocess the text data:\n",
        "    1. Convert to lowercase\n",
        "    2. Remove special characters and numbers\n",
        "    3. Remove stopwords\n",
        "    4. Lemmatization\n",
        "    \"\"\"\n",
        "    # Convert to lowercase\n",
        "    text = text.lower()\n",
        "\n",
        "    # Remove special characters and numbers\n",
        "    text = re.sub(r'[^a-zA-Z\\s]', '', text) # this is a sample text with numbers  and special characters lets preprocess it\n",
        "\n",
        "    # Tokenization\n",
        "    tokens = word_tokenize(text) # ['this', 'is', 'a', 'sample', 'text', 'with', 'numbers', 'and', 'special', 'characters', 'lets', 'preprocess', 'it']\n",
        "\n",
        "    # Remove stopwords\n",
        "    stop_words = set(stopwords.words('english'))\n",
        "    tokens = [token for token in tokens if token not in stop_words] # ['sample', 'text', 'numbers', 'special', 'characters', 'lets', 'preprocess']\n",
        "\n",
        "    # Lemmatization\n",
        "    lemmatizer = WordNetLemmatizer()\n",
        "    tokens = [lemmatizer.lemmatize(token) for token in tokens] # ['sample', 'text', 'number', 'special', 'character', 'let', 'preprocess']\n",
        "\n",
        "    return ' '.join(tokens)"
      ]
    },
    {
      "cell_type": "code",
      "execution_count": null,
      "metadata": {
        "id": "pe0ZA4SwIrJv",
        "outputId": "ea965c2e-27e1-49c1-da6b-9f67a9e239fa"
      },
      "outputs": [
        {
          "name": "stdout",
          "output_type": "stream",
          "text": [
            "Original text: This is a sample text, with numbers 123 and special characters! Let's preprocess it.\n",
            "Processed text: sample text number special character let preprocess\n"
          ]
        }
      ],
      "source": [
        "if __name__ == \"__main__\":\n",
        "    sample_text = \"This is a sample text, with numbers 123 and special characters! Let's preprocess it.\"\n",
        "    print(\"Original text:\", sample_text)\n",
        "    processed_text = preprocess_text(sample_text)\n",
        "    print(\"Processed text:\", processed_text)\n",
        "\n",
        "# %% [markdown]\n"
      ]
    },
    {
      "cell_type": "markdown",
      "metadata": {
        "id": "QpHn2eo0IrJw"
      },
      "source": [
        "### II.2.(1) Prepare data's inputs for statistical model (TF-IDF)"
      ]
    },
    {
      "cell_type": "code",
      "execution_count": null,
      "metadata": {
        "id": "lkxnmiFCIrJw"
      },
      "outputs": [],
      "source": [
        "def prepare_statistical_inputs(train_df, valid_df, test_df):\n",
        "    \"\"\"\n",
        "    Prepare inputs for statistical model using TF-IDF vectorization\n",
        "    Returns: X_train, X_valid, X_test, tfidf_vectorizer\n",
        "    \"\"\"\n",
        "    # TF-IDF Vectorization: convert a text data into 5000-dimensional vectors\n",
        "    # e.g., \"I love dogs\" -> [0.2, 0.1, 0.0, ..., 0.3]\n",
        "    tfidf = TfidfVectorizer(max_features=5000)\n",
        "\n",
        "    # Fit and transform training data, only transform validation and test data\n",
        "    X_train = tfidf.fit_transform(train_df['statement'])\n",
        "    X_valid = tfidf.transform(valid_df['statement'])\n",
        "    X_test = tfidf.transform(test_df['statement'])\n",
        "\n",
        "    print(f\"\\nTF-IDF Vectorization to data inputs:\")\n",
        "    print(f\"  - Number of features: {X_train.shape[1]}\")\n",
        "    print(f\"  - Training set shape: {X_train.shape}\")  # (10240, 5000)\n",
        "    print(f\"  - Validation set shape: {X_valid.shape}\")\n",
        "    print(f\"  - Test set shape: {X_test.shape}\")\n",
        "\n",
        "    return X_train, X_valid, X_test, tfidf"
      ]
    },
    {
      "cell_type": "code",
      "execution_count": null,
      "metadata": {
        "id": "Xr1wanP_IrJw",
        "outputId": "5aa61f2f-bab9-47f4-e630-ed1f5453f535"
      },
      "outputs": [
        {
          "name": "stdout",
          "output_type": "stream",
          "text": [
            "\n",
            "Loading datasets...\n"
          ]
        },
        {
          "name": "stderr",
          "output_type": "stream",
          "text": [
            "Loading files: 100%|██████████| 3/3 [00:00<00:00, 71.89it/s]"
          ]
        },
        {
          "name": "stdout",
          "output_type": "stream",
          "text": [
            "\n",
            "Dataset Summary:\n",
            " - Loaded 10240 training samples\n",
            " - Loaded 1284 validation samples\n",
            " - Loaded 1267 test samples\n",
            "\n",
            "TF-IDF Vectorization to data inputs:\n",
            "  - Number of features: 5000\n",
            "  - Training set shape: (10240, 5000)\n",
            "  - Validation set shape: (1284, 5000)\n",
            "  - Test set shape: (1267, 5000)\n"
          ]
        },
        {
          "name": "stderr",
          "output_type": "stream",
          "text": [
            "\n"
          ]
        }
      ],
      "source": [
        "if __name__ == \"__main__\":\n",
        "    # Load datasets\n",
        "    train_df, valid_df, test_df = load_liar_dataset()\n",
        "\n",
        "    # Prepare inputs for statistical model\n",
        "    train_input_tfidf, valid_input_tfidf, test_input_tfidf, tfidf_vectorizer = prepare_statistical_inputs(\n",
        "        train_df, valid_df, test_df)"
      ]
    },
    {
      "cell_type": "markdown",
      "metadata": {
        "id": "ru7jIr1SIrJx"
      },
      "source": [
        "### II.2.(2) Prepare data's outputs for both statistical and embedding models"
      ]
    },
    {
      "cell_type": "code",
      "execution_count": null,
      "metadata": {
        "id": "ZNgN-QRUIrJx"
      },
      "outputs": [],
      "source": [
        "def prepare_statistical_outputs(train_df, valid_df, test_df):\n",
        "    print('\\n')\n",
        "    for df in [train_df, valid_df, test_df]:\n",
        "        processed_texts = []\n",
        "        for text in tqdm(df['statement'], desc=\"Processing texts\"):\n",
        "            processed_texts.append(preprocess_text(text))\n",
        "        df['statement'] = processed_texts\n",
        "\n",
        "    # Encode labels: i.e, half-true -> 2, false -> 1, mostly-true -> 3, true -> 5, barely-true -> 0, pants-fire -> 4\n",
        "    le = LabelEncoder()\n",
        "    train_df['label_encoded'] = le.fit_transform(train_df['label'])\n",
        "    valid_df['label_encoded'] = le.transform(valid_df['label'])\n",
        "    test_df['label_encoded'] = le.transform(test_df['label'])\n",
        "\n",
        "    print(\"\\nLabel mapping to data outputs:\")\n",
        "    for i, label in enumerate(le.classes_):\n",
        "        print(f\"  - {label} -> {i}\")\n",
        "\n",
        "    return train_df, valid_df, test_df, le"
      ]
    },
    {
      "cell_type": "code",
      "execution_count": null,
      "metadata": {
        "id": "d2FXM6OcIrJx",
        "outputId": "edb83503-430a-44dc-ac28-c3a4db5651fb"
      },
      "outputs": [
        {
          "name": "stdout",
          "output_type": "stream",
          "text": [
            "\n",
            "Loading datasets...\n"
          ]
        },
        {
          "name": "stderr",
          "output_type": "stream",
          "text": [
            "Loading files: 100%|██████████| 3/3 [00:00<00:00, 73.52it/s]\n"
          ]
        },
        {
          "name": "stdout",
          "output_type": "stream",
          "text": [
            "\n",
            "Dataset Summary:\n",
            " - Loaded 10240 training samples\n",
            " - Loaded 1284 validation samples\n",
            " - Loaded 1267 test samples\n",
            "\n",
            "\n"
          ]
        },
        {
          "name": "stderr",
          "output_type": "stream",
          "text": [
            "Processing texts: 100%|██████████| 10240/10240 [00:01<00:00, 5518.92it/s]\n",
            "Processing texts: 100%|██████████| 1284/1284 [00:00<00:00, 5549.26it/s]\n",
            "Processing texts: 100%|██████████| 1267/1267 [00:00<00:00, 5528.66it/s]"
          ]
        },
        {
          "name": "stdout",
          "output_type": "stream",
          "text": [
            "\n",
            "Label mapping to data outputs:\n",
            "  - barely-true -> 0\n",
            "  - false -> 1\n",
            "  - half-true -> 2\n",
            "  - mostly-true -> 3\n",
            "  - pants-fire -> 4\n",
            "  - true -> 5\n"
          ]
        },
        {
          "name": "stderr",
          "output_type": "stream",
          "text": [
            "\n"
          ]
        }
      ],
      "source": [
        "if __name__ == \"__main__\":\n",
        "    # Load datasets\n",
        "    train_df, valid_df, test_df = load_liar_dataset()\n",
        "\n",
        "    # Prepare outputs for statistical model\n",
        "    train_df_output, valid_df_output, test_df_output, label_encoder = prepare_statistical_outputs(train_df, valid_df, test_df)"
      ]
    },
    {
      "cell_type": "markdown",
      "metadata": {
        "id": "WDRqtjZnIrJx"
      },
      "source": [
        "### II.2.(3) Prepare Data for BERT Model\n",
        "\n",
        "For the BERT-based approach, we implement a custom dataset class (LIARBertDataset) that handles both text preprocessing and label encoding. The text data is processed using BERT's tokenizer with a maximum sequence length of 128 tokens. Each text input is converted into input IDs and attention masks, while maintaining the original label structure. The data is then organized into batches using PyTorch's DataLoader for efficient training.\n",
        "\n",
        "The BERT preprocessing differs from the statistical TF-IDF approach for several reasons:\n",
        "\n",
        "1. **Tokenization Requirements**: BERT uses WordPiece tokenization, which splits words into subwords to handle out-of-vocabulary terms effectively. This is different from the simple word-based tokenization used in TF-IDF.\n",
        "\n",
        "2. **Special Tokens**: BERT requires special tokens ([CLS], [SEP]) and attention masks to understand sentence boundaries and perform self-attention, which aren't needed for statistical models.\n",
        "\n",
        "3. **Sequential Information**: Unlike TF-IDF which creates a bag-of-words representation, BERT preserves word order and contextual relationships through positional embeddings, necessitating different preprocessing steps.\n",
        "\n",
        "4. **Input Format**: BERT expects inputs in a specific format (input_ids, attention_masks) for its transformer architecture, while TF-IDF creates a simple numerical vector representation.\n",
        "\n",
        "<div align=\"center\">\n",
        "<img src=\"resources/imgs/2_embeddings.png\" width=\"700\"/>\n",
        "\n",
        "*BERT Input Representation (Devlin et al., 2019): The input embeddings are the sum of the token embeddings, the segmentation embeddings and the position embeddings*\n",
        "</div>"
      ]
    },
    {
      "cell_type": "code",
      "execution_count": null,
      "metadata": {
        "id": "CqDU89h8IrJy"
      },
      "outputs": [],
      "source": [
        "from torch.utils.data import Dataset, DataLoader\n",
        "from transformers import BertTokenizer"
      ]
    },
    {
      "cell_type": "code",
      "execution_count": null,
      "metadata": {
        "id": "m19B5YSbIrJy"
      },
      "outputs": [],
      "source": [
        "class LIARBertDataset(Dataset):\n",
        "    \"\"\"\n",
        "    Custom Dataset for fake news detection\n",
        "    \"\"\"\n",
        "    def __init__(self, texts, labels, tokenizer, max_length=128):\n",
        "        \"\"\"\n",
        "        Initialize the dataset\n",
        "        Args:\n",
        "            texts: input text data\n",
        "            labels: output text labels\n",
        "            tokenizer: BERT tokenizer\n",
        "            max_length: maximum sequence length\n",
        "        \"\"\"\n",
        "        self.texts = texts  # original text data\n",
        "        self.labels = labels  # original text labels\n",
        "        self.max_length = max_length\n",
        "\n",
        "        # Initialize BERT tokenizer for input text data\n",
        "        self.tokenizer = tokenizer\n",
        "\n",
        "        # Initialize label encoder for output text labels\n",
        "        self.label_encoder = LabelEncoder()\n",
        "        self.label_encoder.fit(labels)\n",
        "\n",
        "        # Print label mapping information\n",
        "        self.label_mapping = dict(zip(self.label_encoder.classes_,\n",
        "                                    range(len(self.label_encoder.classes_))))\n",
        "        # print(\"\\nLabel mapping:\")\n",
        "        # for label, idx in self.label_mapping.items():\n",
        "        #     print(f\"  {label} -> {idx}\")\n",
        "\n",
        "    def __len__(self):\n",
        "        return len(self.texts)\n",
        "\n",
        "    def __getitem__(self, idx):\n",
        "        \"\"\"\n",
        "        Get a sample from the dataset\n",
        "        Args:\n",
        "            idx: index of the sample\n",
        "        Returns:\n",
        "            dict containing input_ids, attention_mask, and label\n",
        "        \"\"\"\n",
        "        # （1）Process input text\n",
        "        text = str(self.texts[idx]) # Says the Annies List political group\n",
        "        encoding = self.tokenizer.encode_plus(\n",
        "            text,\n",
        "            add_special_tokens=True,    # Add [CLS], [SEP]\n",
        "            max_length=self.max_length, # Fix length of input\n",
        "            padding='max_length',       # Pad or truncate to max_length\n",
        "            truncation=True,    # Truncate longer texts\n",
        "            return_tensors='pt' # Return PyTorch tensors\n",
        "        )\n",
        "\n",
        "        # （2）Process output label\n",
        "        label = self.labels[idx] # false\n",
        "        encoded_label = self.label_encoder.transform([label])[0] # 1\n",
        "        return {\n",
        "            'input_ids': encoding['input_ids'].flatten(),\n",
        "            'attention_mask': encoding['attention_mask'].flatten(),\n",
        "            'label': torch.tensor(encoded_label, dtype=torch.long)\n",
        "        }\n",
        ""
      ]
    },
    {
      "cell_type": "code",
      "execution_count": null,
      "metadata": {
        "id": "27Fep8v6IrJy",
        "outputId": "44acea53-58da-49bb-e2c2-87e2fdf71c4a"
      },
      "outputs": [
        {
          "name": "stdout",
          "output_type": "stream",
          "text": [
            "1. Loading raw datasets...\n",
            "\n",
            "Loading datasets...\n"
          ]
        },
        {
          "name": "stderr",
          "output_type": "stream",
          "text": [
            "Loading files: 100%|██████████| 3/3 [00:00<00:00, 63.55it/s]\n"
          ]
        },
        {
          "name": "stdout",
          "output_type": "stream",
          "text": [
            "\n",
            "Dataset Summary:\n",
            " - Loaded 10240 training samples\n",
            " - Loaded 1284 validation samples\n",
            " - Loaded 1267 test samples\n",
            "\n",
            "2. Preparing BERT dataset...\n",
            "\n",
            "3. Sample data from BERT dataset...\n",
            " - Original text: Says the Annies List political group supports third-trimester abortions on demand.\n",
            " - Original label: false\n",
            " - Encoded label: 1\n",
            " - Input IDs shape: torch.Size([128])\n",
            " - Attention mask shape: torch.Size([128])\n"
          ]
        }
      ],
      "source": [
        "if __name__ == \"__main__\":\n",
        "    print(\"1. Loading raw datasets...\")\n",
        "    train_df, valid_df, test_df = load_liar_dataset()\n",
        "\n",
        "    print(\"\\n2. Preparing BERT dataset...\")\n",
        "    liar_bert_dataset = LIARBertDataset(\n",
        "        texts=train_df['statement'],  # original text data\n",
        "        labels=train_df['label'],  # original labels\n",
        "        tokenizer=BertTokenizer.from_pretrained('bert-base-uncased')\n",
        "    )\n",
        "\n",
        "    print(\"\\n3. Sample data from BERT dataset...\")\n",
        "    sample = liar_bert_dataset[0]\n",
        "    print(f\" - Original text: {train_df['statement'].iloc[0]}\")\n",
        "    print(f\" - Original label: {train_df['label'].iloc[0]}\")\n",
        "    print(f\" - Encoded label: {sample['label'].item()}\")\n",
        "    print(f\" - Input IDs shape: {sample['input_ids'].shape}\")\n",
        "    print(f\" - Attention mask shape: {sample['attention_mask'].shape}\")"
      ]
    },
    {
      "cell_type": "markdown",
      "metadata": {
        "id": "E8uIxtoIIrJy"
      },
      "source": [
        "### II.2.(4) Run the complete data preparation pipeline"
      ]
    },
    {
      "cell_type": "code",
      "execution_count": null,
      "metadata": {
        "id": "cqEF8D-sIrJz"
      },
      "outputs": [],
      "source": [
        "def prepare_bert_dataloaders(train_df, valid_df, test_df, batch_size=32):\n",
        "    \"\"\"\n",
        "    Prepare inputs for BERT model\n",
        "    Returns: train_loader, valid_loader, test_loader, tokenizer\n",
        "    \"\"\"\n",
        "    # Initialize tokenizer\n",
        "    tokenizer = BertTokenizer.from_pretrained('bert-base-uncased')\n",
        "\n",
        "    # Create datasets with original labels, not encoded labels\n",
        "    train_dataset = LIARBertDataset(train_df['statement'],\n",
        "                                  train_df['label'],\n",
        "                                  tokenizer)\n",
        "    valid_dataset = LIARBertDataset(valid_df['statement'],\n",
        "                                  valid_df['label'],\n",
        "                                  tokenizer)\n",
        "    test_dataset = LIARBertDataset(test_df['statement'],\n",
        "                                 test_df['label'],\n",
        "                                 tokenizer)\n",
        "\n",
        "    # Create data loaders\n",
        "    train_loader = DataLoader(train_dataset,\n",
        "                            batch_size=batch_size,\n",
        "                            shuffle=True)\n",
        "    valid_loader = DataLoader(valid_dataset,\n",
        "                            batch_size=batch_size)\n",
        "    test_loader = DataLoader(test_dataset,\n",
        "                           batch_size=batch_size)\n",
        "\n",
        "    print(f\"\\nBERT Data Preparation Summary:\")\n",
        "    print(f\"  - Max sequence length: {train_dataset.max_length}\")\n",
        "    print(f\"  - Batch size: {batch_size}\")\n",
        "    print(f\"  - Number of training batches: {len(train_loader)}\")\n",
        "    print(f\"  - Number of validation batches: {len(valid_loader)}\")\n",
        "    print(f\"  - Number of test batches: {len(test_loader)}\")\n",
        "\n",
        "    # Print label distribution for each split\n",
        "    print(\"\\nLabel distribution:\")\n",
        "    print(\"  Training set:\")\n",
        "    labels, counts = np.unique(train_df['label'], return_counts=True)\n",
        "    for label, count in zip(labels, counts):\n",
        "        print(f\"    {label}: {count}\")\n",
        "\n",
        "    return train_loader, valid_loader, test_loader, tokenizer"
      ]
    },
    {
      "cell_type": "code",
      "execution_count": null,
      "metadata": {
        "id": "IQmn3YLRIrJz",
        "outputId": "0362dca4-6052-4b7e-b662-f71b5f9b0b07"
      },
      "outputs": [
        {
          "name": "stdout",
          "output_type": "stream",
          "text": [
            "\n",
            "1. Loading raw datasets...\n",
            "\n",
            "Loading datasets...\n"
          ]
        },
        {
          "name": "stderr",
          "output_type": "stream",
          "text": [
            "Loading files: 100%|██████████| 3/3 [00:00<00:00, 74.22it/s]"
          ]
        },
        {
          "name": "stdout",
          "output_type": "stream",
          "text": [
            "\n",
            "Dataset Summary:\n",
            " - Loaded 10240 training samples\n",
            " - Loaded 1284 validation samples\n",
            " - Loaded 1267 test samples\n",
            "\n",
            "2. Preparing statistical model inputs...\n"
          ]
        },
        {
          "name": "stderr",
          "output_type": "stream",
          "text": [
            "\n"
          ]
        },
        {
          "name": "stdout",
          "output_type": "stream",
          "text": [
            "\n",
            "TF-IDF Vectorization to data inputs:\n",
            "  - Number of features: 5000\n",
            "  - Training set shape: (10240, 5000)\n",
            "  - Validation set shape: (1284, 5000)\n",
            "  - Test set shape: (1267, 5000)\n",
            "\n",
            "3. Preparing statistical model outputs...\n",
            "\n",
            "\n"
          ]
        },
        {
          "name": "stderr",
          "output_type": "stream",
          "text": [
            "Processing texts: 100%|██████████| 10240/10240 [00:01<00:00, 5558.44it/s]\n",
            "Processing texts: 100%|██████████| 1284/1284 [00:00<00:00, 5579.90it/s]\n",
            "Processing texts: 100%|██████████| 1267/1267 [00:00<00:00, 5521.13it/s]\n"
          ]
        },
        {
          "name": "stdout",
          "output_type": "stream",
          "text": [
            "\n",
            "Label mapping to data outputs:\n",
            "  - barely-true -> 0\n",
            "  - false -> 1\n",
            "  - half-true -> 2\n",
            "  - mostly-true -> 3\n",
            "  - pants-fire -> 4\n",
            "  - true -> 5\n",
            "\n",
            "4. Preparing BERT model inputs...\n",
            "\n",
            "BERT Data Preparation Summary:\n",
            "  - Max sequence length: 128\n",
            "  - Batch size: 32\n",
            "  - Number of training batches: 320\n",
            "  - Number of validation batches: 41\n",
            "  - Number of test batches: 40\n",
            "\n",
            "Label distribution:\n",
            "  Training set:\n",
            "    barely-true: 1654\n",
            "    false: 1995\n",
            "    half-true: 2114\n",
            "    mostly-true: 1962\n",
            "    pants-fire: 839\n",
            "    true: 1676\n"
          ]
        }
      ],
      "source": [
        "if __name__ == \"__main__\":\n",
        "    print(\"\\n1. Loading raw datasets...\")\n",
        "    train_df, valid_df, test_df = load_liar_dataset()\n",
        "\n",
        "    print(\"\\n2. Preparing statistical model inputs...\")\n",
        "    train_input_tfidf, valid_input_tfidf, test_input_tfidf, tfidf_vectorizer = prepare_statistical_inputs(\n",
        "        train_df, valid_df, test_df)\n",
        "\n",
        "    print(\"\\n3. Preparing statistical model outputs...\")\n",
        "    train_df_output, valid_df_output, test_df_output, label_encoder = prepare_statistical_outputs(\n",
        "        train_df, valid_df, test_df)\n",
        "\n",
        "    print(\"\\n4. Preparing BERT model inputs...\")\n",
        "    train_loader, valid_loader, test_loader, bert_tokenizer = prepare_bert_dataloaders(\n",
        "        train_df, valid_df, test_df)"
      ]
    },
    {
      "cell_type": "markdown",
      "metadata": {
        "id": "kjiGhNe0IrJz"
      },
      "source": [
        "# III. Training and Evaluation<br>\n",
        "We define some utility functions to evaluate model performance, visualize results, and calculate performance metrics."
      ]
    },
    {
      "cell_type": "code",
      "execution_count": null,
      "metadata": {
        "id": "pRldsdXMIrJz"
      },
      "outputs": [],
      "source": [
        "from sklearn.metrics import classification_report, precision_recall_fscore_support, accuracy_score\n",
        "\n",
        "def visualize_results(true_labels, pred_labels, label_names, model_name=\"Model\"):\n",
        "    \"\"\"\n",
        "    Visualize model results with confusion matrix and performance metrics plots\n",
        "    \"\"\"\n",
        "\n",
        "    # Create figure with subplots\n",
        "    fig = plt.figure(figsize=(15, 5))\n",
        "\n",
        "    # 1. Confusion Matrix\n",
        "    plt.subplot(1, 2, 1)\n",
        "    cm = confusion_matrix(true_labels, pred_labels)\n",
        "    cm_normalized = cm.astype('float') / cm.sum(axis=1)[:, np.newaxis]\n",
        "\n",
        "    sns.heatmap(cm_normalized,\n",
        "                annot=True,\n",
        "                fmt='.2f',\n",
        "                cmap='Blues',\n",
        "                xticklabels=label_names,\n",
        "                yticklabels=label_names)\n",
        "    plt.title(f'{model_name} Confusion Matrix (Normalized)')\n",
        "    plt.ylabel('True Label')\n",
        "    plt.xlabel('Predicted Label')\n",
        "    plt.xticks(rotation=45)\n",
        "    plt.yticks(rotation=45)\n",
        "\n",
        "    # 2. Per-class Performance Metrics\n",
        "    plt.subplot(1, 2, 2)\n",
        "\n",
        "    # Calculate per-class metrics\n",
        "    precision = dict()\n",
        "    recall = dict()\n",
        "    f1_score = dict()\n",
        "\n",
        "    for i in range(len(label_names)):\n",
        "        true_binary = (np.array(true_labels) == i)\n",
        "        pred_binary = (np.array(pred_labels) == i)\n",
        "        precision[i] = np.sum(true_binary & pred_binary) / (np.sum(pred_binary) + 1e-10)\n",
        "        recall[i] = np.sum(true_binary & pred_binary) / (np.sum(true_binary) + 1e-10)\n",
        "        f1_score[i] = 2 * (precision[i] * recall[i]) / (precision[i] + recall[i] + 1e-10)\n",
        "\n",
        "    # Plot metrics\n",
        "    x = np.arange(len(label_names))\n",
        "    width = 0.25\n",
        "    plt.bar(x - width, [precision[i] for i in range(len(label_names))], width, label='Precision')\n",
        "    plt.bar(x, [recall[i] for i in range(len(label_names))], width, label='Recall')\n",
        "    plt.bar(x + width, [f1_score[i] for i in range(len(label_names))], width, label='F1-score')\n",
        "    plt.xlabel('Classes')\n",
        "    plt.ylabel('Score')\n",
        "    plt.title(f'{model_name} Performance Metrics by Class')\n",
        "    plt.xticks(x, label_names, rotation=45)\n",
        "    plt.legend()\n",
        "    plt.grid(True, alpha=0.3)\n",
        "    plt.tight_layout()\n",
        "    plt.show()"
      ]
    },
    {
      "cell_type": "code",
      "execution_count": null,
      "metadata": {
        "id": "E3Auj_pPIrJ5"
      },
      "outputs": [],
      "source": [
        "def evaluate_model(true_labels, pred_labels, label_names):\n",
        "    \"\"\"\n",
        "    Evaluate model performance with multiple metrics\n",
        "    \"\"\"\n",
        "    # Calculate accuracy\n",
        "    accuracy = accuracy_score(true_labels, pred_labels)\n",
        "\n",
        "    # Calculate detailed metrics\n",
        "    precision, recall, f1, support = precision_recall_fscore_support(true_labels, pred_labels, average=None)\n",
        "    # Calculate macro averages\n",
        "    macro_precision, macro_recall, macro_f1, _ = precision_recall_fscore_support(true_labels, pred_labels, average='macro')\n",
        "\n",
        "    # Print detailed classification report\n",
        "    print(\"\\nDetailed Classification Report:\")\n",
        "    print(classification_report(true_labels, pred_labels, target_names=label_names))\n",
        "\n",
        "    return {\n",
        "        'accuracy': accuracy,\n",
        "        'precision': precision,\n",
        "        'recall': recall,\n",
        "        'f1': f1,\n",
        "        'support': support,\n",
        "        'macro_precision': macro_precision,\n",
        "        'macro_recall': macro_recall,\n",
        "        'macro_f1': macro_f1,\n",
        "    }"
      ]
    },
    {
      "cell_type": "markdown",
      "metadata": {
        "id": "0vFUbtkWIrJ5"
      },
      "source": [
        "### III.1 Statistical Model (TF-IDF + Naive Bayes)"
      ]
    },
    {
      "cell_type": "markdown",
      "metadata": {
        "id": "3mUZss8AIrJ6"
      },
      "source": [
        "We first implement a statistical baseline model combining TF-IDF vectorization with Multinomial Naive Bayes classification."
      ]
    },
    {
      "cell_type": "code",
      "execution_count": null,
      "metadata": {
        "id": "W9a4p3kKIrJ6"
      },
      "outputs": [],
      "source": [
        "from sklearn.feature_extraction.text import TfidfVectorizer\n",
        "from sklearn.naive_bayes import MultinomialNB"
      ]
    },
    {
      "cell_type": "code",
      "execution_count": null,
      "metadata": {
        "id": "A0hDMRTjIrJ6"
      },
      "outputs": [],
      "source": [
        "def train_statistical_model(train_df, valid_df, test_df):\n",
        "    \"\"\"\n",
        "    Train and evaluate statistical model (TF-IDF + Naive Bayes)\n",
        "    Args:\n",
        "        train_df: training DataFrame\n",
        "        valid_df: validation DataFrame\n",
        "        test_df: test DataFrame\n",
        "    Returns:\n",
        "        nb_model: trained Naive Bayes model\n",
        "        tfidf: fitted TF-IDF vectorizer\n",
        "        metrics: dictionary containing all evaluation metrics\n",
        "    \"\"\"\n",
        "    # Prepare inputs (TF-IDF vectors)\n",
        "    X_train, X_valid, X_test, tfidf = prepare_statistical_inputs(train_df, valid_df, test_df)\n",
        "\n",
        "    # Prepare outputs (encoded labels)\n",
        "    train_df, valid_df, test_df, le = prepare_statistical_outputs(train_df, valid_df, test_df)\n",
        "\n",
        "    # Train Naive Bayes model\n",
        "    print(\"\\nTraining Naive Bayes model...\")\n",
        "    nb_model = MultinomialNB()\n",
        "    nb_model.fit(X_train, train_df['label_encoded'])\n",
        "\n",
        "    # Evaluate validation set\n",
        "    valid_pred = nb_model.predict(X_valid)\n",
        "    print(\"\\nValidation Set Evaluation:\")\n",
        "    valid_metrics = evaluate_model(valid_df['label_encoded'],\n",
        "                                 valid_pred,\n",
        "                                 le.classes_)\n",
        "\n",
        "    # Evaluate test set\n",
        "    test_pred = nb_model.predict(X_test)\n",
        "    print(\"\\nTest Set Evaluation:\")\n",
        "    test_metrics = evaluate_model(test_df['label_encoded'],\n",
        "                                test_pred,\n",
        "                                le.classes_)\n",
        "\n",
        "    # Visualize results\n",
        "    visualize_results(test_df['label_encoded'],\n",
        "                     test_pred,\n",
        "                     label_names=le.classes_,\n",
        "                     model_name=\"Statistical Model (Test)\")\n",
        "\n",
        "    return nb_model, tfidf, valid_metrics, test_metrics"
      ]
    },
    {
      "cell_type": "code",
      "execution_count": null,
      "metadata": {
        "id": "1OqaWLQWIrJ6",
        "outputId": "0fd0e258-d893-455b-b785-369ad22f479b"
      },
      "outputs": [
        {
          "name": "stdout",
          "output_type": "stream",
          "text": [
            "\n",
            "Loading datasets...\n"
          ]
        },
        {
          "name": "stderr",
          "output_type": "stream",
          "text": [
            "Loading files: 100%|██████████| 3/3 [00:00<00:00, 71.37it/s]"
          ]
        },
        {
          "name": "stdout",
          "output_type": "stream",
          "text": [
            "\n",
            "Dataset Summary:\n",
            " - Loaded 10240 training samples\n",
            " - Loaded 1284 validation samples\n",
            " - Loaded 1267 test samples\n"
          ]
        },
        {
          "name": "stderr",
          "output_type": "stream",
          "text": [
            "\n"
          ]
        },
        {
          "name": "stdout",
          "output_type": "stream",
          "text": [
            "\n",
            "TF-IDF Vectorization to data inputs:\n",
            "  - Number of features: 5000\n",
            "  - Training set shape: (10240, 5000)\n",
            "  - Validation set shape: (1284, 5000)\n",
            "  - Test set shape: (1267, 5000)\n",
            "\n",
            "\n"
          ]
        },
        {
          "name": "stderr",
          "output_type": "stream",
          "text": [
            "Processing texts: 100%|██████████| 10240/10240 [00:01<00:00, 5511.29it/s]\n",
            "Processing texts: 100%|██████████| 1284/1284 [00:00<00:00, 5515.77it/s]\n",
            "Processing texts: 100%|██████████| 1267/1267 [00:00<00:00, 5469.77it/s]\n",
            "/home/qingpo.wuwu1/miniconda3/envs/nlp/lib/python3.8/site-packages/sklearn/metrics/_classification.py:1471: UndefinedMetricWarning: Precision and F-score are ill-defined and being set to 0.0 in labels with no predicted samples. Use `zero_division` parameter to control this behavior.\n",
            "  _warn_prf(average, modifier, msg_start, len(result))\n",
            "/home/qingpo.wuwu1/miniconda3/envs/nlp/lib/python3.8/site-packages/sklearn/metrics/_classification.py:1471: UndefinedMetricWarning: Precision and F-score are ill-defined and being set to 0.0 in labels with no predicted samples. Use `zero_division` parameter to control this behavior.\n",
            "  _warn_prf(average, modifier, msg_start, len(result))\n",
            "/home/qingpo.wuwu1/miniconda3/envs/nlp/lib/python3.8/site-packages/sklearn/metrics/_classification.py:1471: UndefinedMetricWarning: Precision and F-score are ill-defined and being set to 0.0 in labels with no predicted samples. Use `zero_division` parameter to control this behavior.\n",
            "  _warn_prf(average, modifier, msg_start, len(result))\n",
            "/home/qingpo.wuwu1/miniconda3/envs/nlp/lib/python3.8/site-packages/sklearn/metrics/_classification.py:1471: UndefinedMetricWarning: Precision and F-score are ill-defined and being set to 0.0 in labels with no predicted samples. Use `zero_division` parameter to control this behavior.\n",
            "  _warn_prf(average, modifier, msg_start, len(result))\n",
            "/home/qingpo.wuwu1/miniconda3/envs/nlp/lib/python3.8/site-packages/sklearn/metrics/_classification.py:1471: UndefinedMetricWarning: Precision and F-score are ill-defined and being set to 0.0 in labels with no predicted samples. Use `zero_division` parameter to control this behavior.\n",
            "  _warn_prf(average, modifier, msg_start, len(result))\n"
          ]
        },
        {
          "name": "stdout",
          "output_type": "stream",
          "text": [
            "\n",
            "Label mapping to data outputs:\n",
            "  - barely-true -> 0\n",
            "  - false -> 1\n",
            "  - half-true -> 2\n",
            "  - mostly-true -> 3\n",
            "  - pants-fire -> 4\n",
            "  - true -> 5\n",
            "\n",
            "Training Naive Bayes model...\n",
            "\n",
            "Validation Set Evaluation:\n",
            "\n",
            "Detailed Classification Report:\n",
            "              precision    recall  f1-score   support\n",
            "\n",
            " barely-true       0.17      0.07      0.10       237\n",
            "       false       0.26      0.33      0.29       263\n",
            "   half-true       0.21      0.42      0.28       248\n",
            " mostly-true       0.26      0.29      0.28       251\n",
            "  pants-fire       1.00      0.01      0.02       116\n",
            "        true       0.23      0.11      0.15       169\n",
            "\n",
            "    accuracy                           0.23      1284\n",
            "   macro avg       0.36      0.20      0.19      1284\n",
            "weighted avg       0.30      0.23      0.21      1284\n",
            "\n",
            "\n",
            "Test Set Evaluation:\n",
            "\n",
            "Detailed Classification Report:\n",
            "              precision    recall  f1-score   support\n",
            "\n",
            " barely-true       0.29      0.10      0.15       212\n",
            "       false       0.25      0.34      0.29       249\n",
            "   half-true       0.22      0.40      0.29       265\n",
            " mostly-true       0.23      0.28      0.25       241\n",
            "  pants-fire       0.00      0.00      0.00        92\n",
            "        true       0.17      0.07      0.10       208\n",
            "\n",
            "    accuracy                           0.23      1267\n",
            "   macro avg       0.19      0.20      0.18      1267\n",
            "weighted avg       0.22      0.23      0.21      1267\n",
            "\n"
          ]
        },
        {
          "data": {
            "image/png": "[encoded data removed]",
            "text/plain": [
              "<Figure size 1500x500 with 3 Axes>"
            ]
          },
          "metadata": {},
          "output_type": "display_data"
        },
        {
          "name": "stdout",
          "output_type": "stream",
          "text": [
            "\n",
            "Comprehensive Model Performance Summary:\n",
            "\n",
            "Validation Set Metrics:\n",
            "  - Accuracy: 0.234\n",
            "  - Macro F1: 0.185\n",
            "  - Macro Precision: 0.356\n",
            "  - Macro Recall: 0.205\n",
            "\n",
            "Test Set Metrics:\n",
            "  - Accuracy: 0.232\n",
            "  - Macro F1: 0.180\n",
            "  - Macro Precision: 0.194\n",
            "  - Macro Recall: 0.199\n"
          ]
        }
      ],
      "source": [
        "if __name__ == \"__main__\":\n",
        "    # Load and prepare data\n",
        "    train_df, valid_df, test_df = load_liar_dataset()\n",
        "\n",
        "    # Train and evaluate model\n",
        "    nb_model, tfidf, valid_metrics, test_metrics = train_statistical_model(train_df, valid_df, test_df)\n",
        "\n",
        "    # Print comprehensive performance summary\n",
        "    print(\"\\nComprehensive Model Performance Summary:\")\n",
        "    print(\"\\nValidation Set Metrics:\")\n",
        "    print(f\"  - Accuracy: {valid_metrics['accuracy']:.3f}\")\n",
        "    print(f\"  - Macro F1: {valid_metrics['macro_f1']:.3f}\")\n",
        "    print(f\"  - Macro Precision: {valid_metrics['macro_precision']:.3f}\")\n",
        "    print(f\"  - Macro Recall: {valid_metrics['macro_recall']:.3f}\")\n",
        "\n",
        "    print(\"\\nTest Set Metrics:\")\n",
        "    print(f\"  - Accuracy: {test_metrics['accuracy']:.3f}\")\n",
        "    print(f\"  - Macro F1: {test_metrics['macro_f1']:.3f}\")\n",
        "    print(f\"  - Macro Precision: {test_metrics['macro_precision']:.3f}\")\n",
        "    print(f\"  - Macro Recall: {test_metrics['macro_recall']:.3f}\")"
      ]
    },
    {
      "cell_type": "markdown",
      "metadata": {
        "id": "T9zQY0kOIrJ7"
      },
      "source": [
        "### III.2 Training and Evaluation of Embedding Model (BERT)"
      ]
    },
    {
      "cell_type": "markdown",
      "metadata": {
        "id": "uBDD2f-TIrJ7"
      },
      "source": [
        "For our deep learning approach, we implement a BERT-based classifier with the following architecture:<br>\n",
        "- Pre-trained BERT base model for contextual embeddings<br>\n",
        "- Dropout layers (rate=0.3) for regularization<br>\n",
        "- Additional linear layer (768→384) with ReLU activation<br>\n",
        "- Final classification layer (384→6)"
      ]
    },
    {
      "cell_type": "markdown",
      "metadata": {
        "id": "aRqXT948IrJ7"
      },
      "source": [
        "The model incorporates several training optimizations:<br>\n",
        "- AdamW optimizer with weight decay<br>\n",
        "- Learning rate scheduling with ReduceLROnPlateau<br>\n",
        "- Early stopping to prevent overfitting"
      ]
    },
    {
      "cell_type": "markdown",
      "metadata": {
        "id": "4U9Hk9aTIrJ7"
      },
      "source": [
        "We define our BERT-based classifier model."
      ]
    },
    {
      "cell_type": "code",
      "execution_count": null,
      "metadata": {
        "id": "VzYeWbuOIrJ7"
      },
      "outputs": [],
      "source": [
        "import torch.nn as nn\n",
        "from transformers import BertModel, AdamW\n",
        "from torch.optim.lr_scheduler import ReduceLROnPlateau"
      ]
    },
    {
      "cell_type": "code",
      "execution_count": null,
      "metadata": {
        "id": "H6G74HOoIrJ7"
      },
      "outputs": [],
      "source": [
        "class BertClassifier(nn.Module):\n",
        "    def __init__(self, num_classes=6, dropout_rate=0.3):\n",
        "        super(BertClassifier, self).__init__()\n",
        "        self.bert = BertModel.from_pretrained('bert-base-uncased')\n",
        "        self.dropout = nn.Dropout(dropout_rate)\n",
        "        # Add a fully connected layer\n",
        "        self.linear = nn.Linear(768, 384)\n",
        "        self.classifier = nn.Linear(384, num_classes)\n",
        "        self.relu = nn.ReLU()\n",
        "\n",
        "    def forward(self, input_ids, attention_mask):\n",
        "        outputs = self.bert(input_ids=input_ids, attention_mask=attention_mask)\n",
        "        pooled_output = outputs.pooler_output\n",
        "        x = self.dropout(pooled_output)\n",
        "        x = self.linear(x)\n",
        "        x = self.relu(x)\n",
        "        x = self.dropout(x)\n",
        "        x = self.classifier(x)\n",
        "        return x"
      ]
    },
    {
      "cell_type": "code",
      "execution_count": null,
      "metadata": {
        "id": "fOPsHj5kIrJ8"
      },
      "outputs": [],
      "source": [
        "class EarlyStopping:\n",
        "    def __init__(self, patience=3, min_delta=0):\n",
        "        self.patience = patience\n",
        "        self.min_delta = min_delta\n",
        "        self.counter = 0\n",
        "        self.best_loss = None\n",
        "        self.early_stop = False\n",
        "\n",
        "    def __call__(self, val_loss):\n",
        "        if self.best_loss is None:\n",
        "            self.best_loss = val_loss\n",
        "        elif val_loss > self.best_loss - self.min_delta:\n",
        "            self.counter += 1\n",
        "            if self.counter >= self.patience:\n",
        "                self.early_stop = True\n",
        "        else:\n",
        "            self.best_loss = val_loss\n",
        "            self.counter = 0"
      ]
    },
    {
      "cell_type": "markdown",
      "metadata": {
        "id": "YeEW_VlqIrJ8"
      },
      "source": [
        "We define a function to train the BERT model with the specified configuration."
      ]
    },
    {
      "cell_type": "code",
      "execution_count": null,
      "metadata": {
        "id": "xPVoKo_OIrJ8"
      },
      "outputs": [],
      "source": [
        "def get_predictions(model, data_loader, device):\n",
        "    \"\"\"\n",
        "    Get model predictions for a data loader\n",
        "    \"\"\"\n",
        "    model.eval()\n",
        "    predictions = []\n",
        "    true_labels = []\n",
        "\n",
        "    with torch.no_grad():\n",
        "        for batch in data_loader:\n",
        "            input_ids = batch['input_ids'].to(device)\n",
        "            attention_mask = batch['attention_mask'].to(device)\n",
        "            labels = batch['label']\n",
        "\n",
        "            outputs = model(input_ids, attention_mask)\n",
        "            _, preds = torch.max(outputs, 1)\n",
        "\n",
        "            predictions.extend(preds.cpu().tolist())\n",
        "            true_labels.extend(labels.tolist())\n",
        "\n",
        "    return predictions, true_labels"
      ]
    },
    {
      "cell_type": "code",
      "execution_count": null,
      "metadata": {
        "id": "eBtDir3pIrJ8"
      },
      "outputs": [],
      "source": [
        "def train_bert_model(train_loader, valid_loader, test_loader, device,\n",
        "                    epochs=20, learning_rate=1e-5, use_class_weights=True):\n",
        "    \"\"\"\n",
        "    Train and evaluate BERT model with option to use class weights\n",
        "    \"\"\"\n",
        "    model = BertClassifier().to(device)\n",
        "\n",
        "    # Calculate class weights if needed\n",
        "    if use_class_weights:\n",
        "        all_labels = []\n",
        "        for batch in train_loader:\n",
        "            all_labels.extend(batch['label'].numpy())\n",
        "        label_counts = np.bincount(all_labels)\n",
        "        class_weights = 1.0 / label_counts\n",
        "        class_weights = torch.FloatTensor(class_weights / class_weights.sum()).to(device)\n",
        "        criterion = nn.CrossEntropyLoss(weight=class_weights)\n",
        "    else:\n",
        "        criterion = nn.CrossEntropyLoss()\n",
        "\n",
        "    # Initialize optimizer, scheduler and loss function\n",
        "    optimizer = AdamW(model.parameters(), lr=learning_rate, weight_decay=0.01)\n",
        "    scheduler = ReduceLROnPlateau(optimizer, mode='min', factor=0.1, patience=2, verbose=True)\n",
        "    early_stopping = EarlyStopping(patience=5)\n",
        "\n",
        "    # Training loop\n",
        "    best_valid_acc = 0.0\n",
        "    best_valid_loss = float('inf')\n",
        "\n",
        "    for epoch in range(epochs):\n",
        "        print(f'\\nEpoch {epoch + 1}/{epochs}')\n",
        "\n",
        "        # Training phase\n",
        "        model.train()\n",
        "        train_loss = 0\n",
        "        train_preds, train_labels = [], []\n",
        "\n",
        "        for batch in tqdm(train_loader, desc=\"Training\"):\n",
        "            # Move batch to device\n",
        "            input_ids = batch['input_ids'].to(device)\n",
        "            attention_mask = batch['attention_mask'].to(device)\n",
        "            labels = batch['label'].to(device)\n",
        "\n",
        "            # Forward pass\n",
        "            optimizer.zero_grad()\n",
        "            outputs = model(input_ids, attention_mask)\n",
        "            loss = criterion(outputs, labels)\n",
        "\n",
        "            # Backward pass\n",
        "            loss.backward()\n",
        "            torch.nn.utils.clip_grad_norm_(model.parameters(), 1.0)\n",
        "            optimizer.step()\n",
        "\n",
        "            # Record loss and predictions\n",
        "            train_loss += loss.item()\n",
        "            _, preds = torch.max(outputs, 1)\n",
        "            train_preds.extend(preds.cpu().tolist())\n",
        "            train_labels.extend(labels.cpu().tolist())\n",
        "\n",
        "        # Calculate training metrics\n",
        "        train_loss = train_loss / len(train_loader)\n",
        "        train_acc = sum(1 for x, y in zip(train_preds, train_labels) if x == y) / len(train_labels)\n",
        "\n",
        "        # Validation phase\n",
        "        model.eval()\n",
        "        valid_loss = 0\n",
        "        valid_preds, valid_labels = [], []\n",
        "\n",
        "        with torch.no_grad():\n",
        "            for batch in tqdm(valid_loader, desc=\"Validation\"):\n",
        "                input_ids = batch['input_ids'].to(device)\n",
        "                attention_mask = batch['attention_mask'].to(device)\n",
        "                labels = batch['label'].to(device)\n",
        "\n",
        "                outputs = model(input_ids, attention_mask)\n",
        "                loss = criterion(outputs, labels)\n",
        "\n",
        "                valid_loss += loss.item()\n",
        "                _, preds = torch.max(outputs, 1)\n",
        "                valid_preds.extend(preds.cpu().tolist())\n",
        "                valid_labels.extend(labels.cpu().tolist())\n",
        "\n",
        "        # Calculate validation metrics\n",
        "        valid_loss = valid_loss / len(valid_loader)\n",
        "        valid_acc = sum(1 for x, y in zip(valid_preds, valid_labels) if x == y) / len(valid_labels)\n",
        "\n",
        "        # Update scheduler\n",
        "        scheduler.step(valid_loss)\n",
        "\n",
        "        # Print epoch results\n",
        "        print(f'\\nTraining Loss: {train_loss:.4f}, Training Acc: {train_acc:.4f}')\n",
        "        print(f'Validation Loss: {valid_loss:.4f}, Validation Acc: {valid_acc:.4f}')\n",
        "\n",
        "        # Save best model based on both loss and accuracy\n",
        "        if valid_acc > best_valid_acc:\n",
        "            best_valid_acc = valid_acc\n",
        "            torch.save({\n",
        "                'epoch': epoch,\n",
        "                'model_state_dict': model.state_dict(),\n",
        "                'optimizer_state_dict': optimizer.state_dict(),\n",
        "                'valid_acc': valid_acc,\n",
        "                'valid_loss': valid_loss,\n",
        "            }, 'best_bert_model.pt', _use_new_zipfile_serialization=True)\n",
        "            print(f\"Saved best model with validation accuracy: {valid_acc:.4f}\")\n",
        "\n",
        "        # Early stopping check\n",
        "        early_stopping(valid_loss)\n",
        "        if early_stopping.early_stop:\n",
        "            print(\"Early stopping triggered\")\n",
        "            break\n",
        "\n",
        "    # Test phase\n",
        "    print(\"\\nEvaluating on test set...\")\n",
        "    # Load best model\n",
        "    checkpoint = torch.load('best_bert_model.pt', weights_only=True)\n",
        "    model.load_state_dict(checkpoint['model_state_dict'])\n",
        "    model.eval()\n",
        "    test_preds, test_labels = [], []\n",
        "\n",
        "    with torch.no_grad():\n",
        "        for batch in tqdm(test_loader, desc=\"Testing\"):\n",
        "            input_ids = batch['input_ids'].to(device)\n",
        "            attention_mask = batch['attention_mask'].to(device)\n",
        "            labels = batch['label'].to(device)\n",
        "\n",
        "            outputs = model(input_ids, attention_mask)\n",
        "            _, preds = torch.max(outputs, 1)\n",
        "            test_preds.extend(preds.cpu().tolist())\n",
        "            test_labels.extend(labels.cpu().tolist())\n",
        "\n",
        "    # Print test results and visualize\n",
        "    print(\"\\nTest Set Performance:\")\n",
        "    print(classification_report(test_labels, test_preds))\n",
        "    visualize_results(test_labels, test_preds,\n",
        "                     label_names=test_loader.dataset.label_encoder.classes_,\n",
        "                     model_name=\"BERT Model (Test)\")\n",
        "\n",
        "    return model"
      ]
    },
    {
      "cell_type": "markdown",
      "metadata": {
        "id": "sIQSv-y3IrJ9"
      },
      "source": [
        "Here, we train and evaluate the BERT model using the LIAR dataset."
      ]
    },
    {
      "cell_type": "code",
      "execution_count": null,
      "metadata": {
        "id": "Jlzamo9oIrJ9"
      },
      "outputs": [],
      "source": [
        "def train_and_compare_models(train_loader, valid_loader, test_loader, device,\n",
        "                           epochs=20, learning_rate=1e-5):\n",
        "    \"\"\"\n",
        "    Train and compare models with and without class weights\n",
        "    \"\"\"\n",
        "    results = {}\n",
        "\n",
        "    # Train model with class weights\n",
        "    print(\"\\n=== Training Model WITH Class Weights ===\")\n",
        "    model_weighted = train_bert_model(train_loader, valid_loader, test_loader,\n",
        "                                    device, epochs, learning_rate, use_class_weights=True)\n",
        "\n",
        "    # Evaluate weighted model\n",
        "    test_preds_weighted, test_labels = get_predictions(model_weighted, test_loader, device)\n",
        "    results['weighted'] = evaluate_model(test_labels, test_preds_weighted,\n",
        "                                       test_loader.dataset.label_encoder.classes_)\n",
        "\n",
        "    # Train model without class weights\n",
        "    print(\"\\n=== Training Model WITHOUT Class Weights ===\")\n",
        "    model_unweighted = train_bert_model(train_loader, valid_loader, test_loader,\n",
        "                                       device, epochs, learning_rate, use_class_weights=False)\n",
        "\n",
        "    # Evaluate unweighted model\n",
        "    test_preds_unweighted, _ = get_predictions(model_unweighted, test_loader, device)\n",
        "    results['unweighted'] = evaluate_model(test_labels, test_preds_unweighted,\n",
        "                                         test_loader.dataset.label_encoder.classes_)\n",
        "\n",
        "    # Compare results\n",
        "    print(\"\\n=== Comparison of Models ===\")\n",
        "    metrics = ['macro_f1', 'macro_precision', 'macro_recall', 'accuracy']\n",
        "    print(\"\\nMetric\\t\\tWith Weights\\tWithout Weights\\tDifference\")\n",
        "    print(\"-\" * 60)\n",
        "    for metric in metrics:\n",
        "        weighted_value = results['weighted'][metric]\n",
        "        unweighted_value = results['unweighted'][metric]\n",
        "        diff = weighted_value - unweighted_value\n",
        "        print(f\"{metric:15s}\\t{weighted_value:.3f}\\t\\t{unweighted_value:.3f}\\t\\t{diff:+.3f}\")\n",
        "\n",
        "    # Visualize both results\n",
        "    plt.figure(figsize=(15, 5))\n",
        "\n",
        "    # Plot comparison of F1-scores for each class\n",
        "    plt.subplot(1, 2, 1)\n",
        "    x = np.arange(len(test_loader.dataset.label_encoder.classes_))\n",
        "    width = 0.35\n",
        "\n",
        "    plt.bar(x - width/2, results['weighted']['f1'], width, label='With Weights')\n",
        "    plt.bar(x + width/2, results['unweighted']['f1'], width, label='Without Weights')\n",
        "\n",
        "    plt.xlabel('Classes')\n",
        "    plt.ylabel('F1-score')\n",
        "    plt.title('Per-class F1-scores Comparison')\n",
        "    plt.xticks(x, test_loader.dataset.label_encoder.classes_, rotation=45)\n",
        "    plt.legend()\n",
        "    plt.grid(True, alpha=0.3)\n",
        "\n",
        "    # Plot comparison of macro metrics and accuracy\n",
        "    plt.subplot(1, 2, 2)\n",
        "    metrics = ['precision', 'recall', 'f1', 'accuracy']\n",
        "    x = np.arange(len(metrics))\n",
        "\n",
        "    # Get values for weighted and unweighted models\n",
        "    weighted_values = [results['weighted'][f'macro_{m}'] if m != 'accuracy'\n",
        "                      else results['weighted']['accuracy'] for m in metrics]\n",
        "    unweighted_values = [results['unweighted'][f'macro_{m}'] if m != 'accuracy'\n",
        "                        else results['unweighted']['accuracy'] for m in metrics]\n",
        "\n",
        "    plt.bar(x - width/2, weighted_values, width, label='With Weights')\n",
        "    plt.bar(x + width/2, unweighted_values, width, label='Without Weights')\n",
        "\n",
        "    plt.xlabel('Metric')\n",
        "    plt.ylabel('Score')\n",
        "    plt.title('Macro-averaged Metrics and Accuracy Comparison')\n",
        "    plt.xticks(x, metrics)\n",
        "    plt.legend()\n",
        "    plt.grid(True, alpha=0.3)\n",
        "\n",
        "    plt.tight_layout()\n",
        "    plt.show()\n",
        "\n",
        "    return results"
      ]
    },
    {
      "cell_type": "code",
      "execution_count": null,
      "metadata": {
        "id": "vNLRXR1bIrJ9",
        "outputId": "057ab329-b171-4fb6-cb64-4e2ed470f85a"
      },
      "outputs": [
        {
          "name": "stdout",
          "output_type": "stream",
          "text": [
            "Using device: cuda\n",
            "\n",
            "Loading datasets...\n"
          ]
        },
        {
          "name": "stderr",
          "output_type": "stream",
          "text": [
            "Loading files: 100%|██████████| 3/3 [00:00<00:00, 71.01it/s]"
          ]
        },
        {
          "name": "stdout",
          "output_type": "stream",
          "text": [
            "\n",
            "Dataset Summary:\n",
            " - Loaded 10240 training samples\n",
            " - Loaded 1284 validation samples\n",
            " - Loaded 1267 test samples\n"
          ]
        },
        {
          "name": "stderr",
          "output_type": "stream",
          "text": [
            "\n"
          ]
        },
        {
          "name": "stdout",
          "output_type": "stream",
          "text": [
            "\n",
            "BERT Data Preparation Summary:\n",
            "  - Max sequence length: 128\n",
            "  - Batch size: 64\n",
            "  - Number of training batches: 160\n",
            "  - Number of validation batches: 21\n",
            "  - Number of test batches: 20\n",
            "\n",
            "Label distribution:\n",
            "  Training set:\n",
            "    barely-true: 1654\n",
            "    false: 1995\n",
            "    half-true: 2114\n",
            "    mostly-true: 1962\n",
            "    pants-fire: 839\n",
            "    true: 1676\n",
            "\n",
            "=== Training Model WITH Class Weights ===\n"
          ]
        },
        {
          "name": "stderr",
          "output_type": "stream",
          "text": [
            "/home/qingpo.wuwu1/miniconda3/envs/nlp/lib/python3.8/site-packages/transformers/optimization.py:591: FutureWarning: This implementation of AdamW is deprecated and will be removed in a future version. Use the PyTorch implementation torch.optim.AdamW instead, or set `no_deprecation_warning=True` to disable this warning\n",
            "  warnings.warn(\n",
            "/home/qingpo.wuwu1/miniconda3/envs/nlp/lib/python3.8/site-packages/torch/optim/lr_scheduler.py:60: UserWarning: The verbose parameter is deprecated. Please use get_last_lr() to access the learning rate.\n",
            "  warnings.warn(\n"
          ]
        },
        {
          "name": "stdout",
          "output_type": "stream",
          "text": [
            "\n",
            "Epoch 1/20\n"
          ]
        },
        {
          "name": "stderr",
          "output_type": "stream",
          "text": [
            "Training: 100%|██████████| 160/160 [00:51<00:00,  3.10it/s]\n",
            "Validation: 100%|██████████| 21/21 [00:02<00:00,  8.12it/s]\n"
          ]
        },
        {
          "name": "stdout",
          "output_type": "stream",
          "text": [
            "\n",
            "Training Loss: 1.7969, Training Acc: 0.1801\n",
            "Validation Loss: 1.7766, Validation Acc: 0.1807\n",
            "Saved best model with validation accuracy: 0.1807\n",
            "\n",
            "Epoch 2/20\n"
          ]
        },
        {
          "name": "stderr",
          "output_type": "stream",
          "text": [
            "Training: 100%|██████████| 160/160 [00:51<00:00,  3.11it/s]\n",
            "Validation: 100%|██████████| 21/21 [00:02<00:00,  8.10it/s]\n"
          ]
        },
        {
          "name": "stdout",
          "output_type": "stream",
          "text": [
            "\n",
            "Training Loss: 1.7590, Training Acc: 0.1990\n",
            "Validation Loss: 1.7318, Validation Acc: 0.2165\n",
            "Saved best model with validation accuracy: 0.2165\n",
            "\n",
            "Epoch 3/20\n"
          ]
        },
        {
          "name": "stderr",
          "output_type": "stream",
          "text": [
            "Training: 100%|██████████| 160/160 [00:51<00:00,  3.12it/s]\n",
            "Validation: 100%|██████████| 21/21 [00:02<00:00,  8.11it/s]\n"
          ]
        },
        {
          "name": "stdout",
          "output_type": "stream",
          "text": [
            "\n",
            "Training Loss: 1.7104, Training Acc: 0.2200\n",
            "Validation Loss: 1.7038, Validation Acc: 0.2227\n",
            "Saved best model with validation accuracy: 0.2227\n",
            "\n",
            "Epoch 4/20\n"
          ]
        },
        {
          "name": "stderr",
          "output_type": "stream",
          "text": [
            "Training: 100%|██████████| 160/160 [00:51<00:00,  3.11it/s]\n",
            "Validation: 100%|██████████| 21/21 [00:02<00:00,  8.12it/s]\n"
          ]
        },
        {
          "name": "stdout",
          "output_type": "stream",
          "text": [
            "\n",
            "Training Loss: 1.6414, Training Acc: 0.2612\n",
            "Validation Loss: 1.6966, Validation Acc: 0.2516\n",
            "Saved best model with validation accuracy: 0.2516\n",
            "\n",
            "Epoch 5/20\n"
          ]
        },
        {
          "name": "stderr",
          "output_type": "stream",
          "text": [
            "Training: 100%|██████████| 160/160 [00:51<00:00,  3.12it/s]\n",
            "Validation: 100%|██████████| 21/21 [00:02<00:00,  8.12it/s]\n"
          ]
        },
        {
          "name": "stdout",
          "output_type": "stream",
          "text": [
            "\n",
            "Training Loss: 1.5583, Training Acc: 0.3011\n",
            "Validation Loss: 1.7201, Validation Acc: 0.2523\n",
            "Saved best model with validation accuracy: 0.2523\n",
            "\n",
            "Epoch 6/20\n"
          ]
        },
        {
          "name": "stderr",
          "output_type": "stream",
          "text": [
            "Training: 100%|██████████| 160/160 [00:51<00:00,  3.11it/s]\n",
            "Validation: 100%|██████████| 21/21 [00:02<00:00,  8.12it/s]\n"
          ]
        },
        {
          "name": "stdout",
          "output_type": "stream",
          "text": [
            "\n",
            "Training Loss: 1.4592, Training Acc: 0.3469\n",
            "Validation Loss: 1.7640, Validation Acc: 0.2539\n",
            "Saved best model with validation accuracy: 0.2539\n",
            "\n",
            "Epoch 7/20\n"
          ]
        },
        {
          "name": "stderr",
          "output_type": "stream",
          "text": [
            "Training: 100%|██████████| 160/160 [00:51<00:00,  3.12it/s]\n",
            "Validation: 100%|██████████| 21/21 [00:02<00:00,  8.10it/s]\n"
          ]
        },
        {
          "name": "stdout",
          "output_type": "stream",
          "text": [
            "\n",
            "Training Loss: 1.3726, Training Acc: 0.3829\n",
            "Validation Loss: 1.8596, Validation Acc: 0.2407\n",
            "\n",
            "Epoch 8/20\n"
          ]
        },
        {
          "name": "stderr",
          "output_type": "stream",
          "text": [
            "Training: 100%|██████████| 160/160 [00:51<00:00,  3.12it/s]\n",
            "Validation: 100%|██████████| 21/21 [00:02<00:00,  8.12it/s]\n"
          ]
        },
        {
          "name": "stdout",
          "output_type": "stream",
          "text": [
            "\n",
            "Training Loss: 1.2757, Training Acc: 0.4314\n",
            "Validation Loss: 1.8617, Validation Acc: 0.2492\n",
            "\n",
            "Epoch 9/20\n"
          ]
        },
        {
          "name": "stderr",
          "output_type": "stream",
          "text": [
            "Training: 100%|██████████| 160/160 [00:51<00:00,  3.11it/s]\n",
            "Validation: 100%|██████████| 21/21 [00:02<00:00,  8.10it/s]\n"
          ]
        },
        {
          "name": "stdout",
          "output_type": "stream",
          "text": [
            "\n",
            "Training Loss: 1.2582, Training Acc: 0.4463\n",
            "Validation Loss: 1.8725, Validation Acc: 0.2500\n",
            "Early stopping triggered\n",
            "\n",
            "Evaluating on test set...\n"
          ]
        },
        {
          "name": "stderr",
          "output_type": "stream",
          "text": [
            "Testing: 100%|██████████| 20/20 [00:02<00:00,  8.15it/s]\n"
          ]
        },
        {
          "name": "stdout",
          "output_type": "stream",
          "text": [
            "\n",
            "Test Set Performance:\n",
            "              precision    recall  f1-score   support\n",
            "\n",
            "           0       0.29      0.23      0.26       212\n",
            "           1       0.33      0.15      0.21       249\n",
            "           2       0.23      0.22      0.23       265\n",
            "           3       0.28      0.26      0.27       241\n",
            "           4       0.24      0.34      0.28        92\n",
            "           5       0.25      0.46      0.33       208\n",
            "\n",
            "    accuracy                           0.26      1267\n",
            "   macro avg       0.27      0.28      0.26      1267\n",
            "weighted avg       0.27      0.26      0.26      1267\n",
            "\n"
          ]
        },
        {
          "data": {
            "image/png": "[encoded data removed]",
            "text/plain": [
              "<Figure size 1500x500 with 3 Axes>"
            ]
          },
          "metadata": {},
          "output_type": "display_data"
        },
        {
          "name": "stdout",
          "output_type": "stream",
          "text": [
            "\n",
            "Detailed Classification Report:\n",
            "              precision    recall  f1-score   support\n",
            "\n",
            " barely-true       0.29      0.23      0.26       212\n",
            "       false       0.33      0.15      0.21       249\n",
            "   half-true       0.23      0.22      0.23       265\n",
            " mostly-true       0.28      0.26      0.27       241\n",
            "  pants-fire       0.24      0.34      0.28        92\n",
            "        true       0.25      0.46      0.33       208\n",
            "\n",
            "    accuracy                           0.26      1267\n",
            "   macro avg       0.27      0.28      0.26      1267\n",
            "weighted avg       0.27      0.26      0.26      1267\n",
            "\n",
            "\n",
            "=== Training Model WITHOUT Class Weights ===\n"
          ]
        },
        {
          "name": "stderr",
          "output_type": "stream",
          "text": [
            "/home/qingpo.wuwu1/miniconda3/envs/nlp/lib/python3.8/site-packages/transformers/optimization.py:591: FutureWarning: This implementation of AdamW is deprecated and will be removed in a future version. Use the PyTorch implementation torch.optim.AdamW instead, or set `no_deprecation_warning=True` to disable this warning\n",
            "  warnings.warn(\n",
            "/home/qingpo.wuwu1/miniconda3/envs/nlp/lib/python3.8/site-packages/torch/optim/lr_scheduler.py:60: UserWarning: The verbose parameter is deprecated. Please use get_last_lr() to access the learning rate.\n",
            "  warnings.warn(\n"
          ]
        },
        {
          "name": "stdout",
          "output_type": "stream",
          "text": [
            "\n",
            "Epoch 1/20\n"
          ]
        },
        {
          "name": "stderr",
          "output_type": "stream",
          "text": [
            "Training: 100%|██████████| 160/160 [00:51<00:00,  3.12it/s]\n",
            "Validation: 100%|██████████| 21/21 [00:02<00:00,  8.11it/s]\n"
          ]
        },
        {
          "name": "stdout",
          "output_type": "stream",
          "text": [
            "\n",
            "Training Loss: 1.7738, Training Acc: 0.1890\n",
            "Validation Loss: 1.7520, Validation Acc: 0.2072\n",
            "Saved best model with validation accuracy: 0.2072\n",
            "\n",
            "Epoch 2/20\n"
          ]
        },
        {
          "name": "stderr",
          "output_type": "stream",
          "text": [
            "Training: 100%|██████████| 160/160 [00:51<00:00,  3.11it/s]\n",
            "Validation: 100%|██████████| 21/21 [00:02<00:00,  8.12it/s]\n"
          ]
        },
        {
          "name": "stdout",
          "output_type": "stream",
          "text": [
            "\n",
            "Training Loss: 1.7316, Training Acc: 0.2282\n",
            "Validation Loss: 1.7115, Validation Acc: 0.2500\n",
            "Saved best model with validation accuracy: 0.2500\n",
            "\n",
            "Epoch 3/20\n"
          ]
        },
        {
          "name": "stderr",
          "output_type": "stream",
          "text": [
            "Training: 100%|██████████| 160/160 [00:51<00:00,  3.11it/s]\n",
            "Validation: 100%|██████████| 21/21 [00:02<00:00,  8.10it/s]\n"
          ]
        },
        {
          "name": "stdout",
          "output_type": "stream",
          "text": [
            "\n",
            "Training Loss: 1.6925, Training Acc: 0.2612\n",
            "Validation Loss: 1.7096, Validation Acc: 0.2664\n",
            "Saved best model with validation accuracy: 0.2664\n",
            "\n",
            "Epoch 4/20\n"
          ]
        },
        {
          "name": "stderr",
          "output_type": "stream",
          "text": [
            "Training: 100%|██████████| 160/160 [00:51<00:00,  3.12it/s]\n",
            "Validation: 100%|██████████| 21/21 [00:02<00:00,  8.12it/s]\n"
          ]
        },
        {
          "name": "stdout",
          "output_type": "stream",
          "text": [
            "\n",
            "Training Loss: 1.6469, Training Acc: 0.2807\n",
            "Validation Loss: 1.6813, Validation Acc: 0.2632\n",
            "\n",
            "Epoch 5/20\n"
          ]
        },
        {
          "name": "stderr",
          "output_type": "stream",
          "text": [
            "Training: 100%|██████████| 160/160 [00:51<00:00,  3.11it/s]\n",
            "Validation: 100%|██████████| 21/21 [00:02<00:00,  8.11it/s]\n"
          ]
        },
        {
          "name": "stdout",
          "output_type": "stream",
          "text": [
            "\n",
            "Training Loss: 1.5905, Training Acc: 0.3270\n",
            "Validation Loss: 1.7041, Validation Acc: 0.2671\n",
            "Saved best model with validation accuracy: 0.2671\n",
            "\n",
            "Epoch 6/20\n"
          ]
        },
        {
          "name": "stderr",
          "output_type": "stream",
          "text": [
            "Training: 100%|██████████| 160/160 [00:51<00:00,  3.12it/s]\n",
            "Validation: 100%|██████████| 21/21 [00:02<00:00,  8.11it/s]\n"
          ]
        },
        {
          "name": "stdout",
          "output_type": "stream",
          "text": [
            "\n",
            "Training Loss: 1.5247, Training Acc: 0.3550\n",
            "Validation Loss: 1.7480, Validation Acc: 0.2656\n",
            "\n",
            "Epoch 7/20\n"
          ]
        },
        {
          "name": "stderr",
          "output_type": "stream",
          "text": [
            "Training: 100%|██████████| 160/160 [00:51<00:00,  3.11it/s]\n",
            "Validation: 100%|██████████| 21/21 [00:02<00:00,  8.12it/s]\n"
          ]
        },
        {
          "name": "stdout",
          "output_type": "stream",
          "text": [
            "\n",
            "Training Loss: 1.4412, Training Acc: 0.4021\n",
            "Validation Loss: 1.7631, Validation Acc: 0.2656\n",
            "\n",
            "Epoch 8/20\n"
          ]
        },
        {
          "name": "stderr",
          "output_type": "stream",
          "text": [
            "Training: 100%|██████████| 160/160 [00:51<00:00,  3.12it/s]\n",
            "Validation: 100%|██████████| 21/21 [00:02<00:00,  8.10it/s]\n"
          ]
        },
        {
          "name": "stdout",
          "output_type": "stream",
          "text": [
            "\n",
            "Training Loss: 1.3530, Training Acc: 0.4492\n",
            "Validation Loss: 1.7773, Validation Acc: 0.2726\n",
            "Saved best model with validation accuracy: 0.2726\n",
            "\n",
            "Epoch 9/20\n"
          ]
        },
        {
          "name": "stderr",
          "output_type": "stream",
          "text": [
            "Training: 100%|██████████| 160/160 [00:51<00:00,  3.11it/s]\n",
            "Validation: 100%|██████████| 21/21 [00:02<00:00,  8.10it/s]\n"
          ]
        },
        {
          "name": "stdout",
          "output_type": "stream",
          "text": [
            "\n",
            "Training Loss: 1.3310, Training Acc: 0.4605\n",
            "Validation Loss: 1.7829, Validation Acc: 0.2757\n",
            "Saved best model with validation accuracy: 0.2757\n",
            "Early stopping triggered\n",
            "\n",
            "Evaluating on test set...\n"
          ]
        },
        {
          "name": "stderr",
          "output_type": "stream",
          "text": [
            "Testing: 100%|██████████| 20/20 [00:02<00:00,  8.13it/s]\n"
          ]
        },
        {
          "name": "stdout",
          "output_type": "stream",
          "text": [
            "\n",
            "Test Set Performance:\n",
            "              precision    recall  f1-score   support\n",
            "\n",
            "           0       0.24      0.18      0.21       212\n",
            "           1       0.32      0.26      0.29       249\n",
            "           2       0.22      0.26      0.24       265\n",
            "           3       0.27      0.42      0.33       241\n",
            "           4       0.32      0.11      0.16        92\n",
            "           5       0.30      0.26      0.28       208\n",
            "\n",
            "    accuracy                           0.27      1267\n",
            "   macro avg       0.28      0.25      0.25      1267\n",
            "weighted avg       0.27      0.27      0.26      1267\n",
            "\n"
          ]
        },
        {
          "data": {
            "image/png": "[encoded data removed]",
            "text/plain": [
              "<Figure size 1500x500 with 3 Axes>"
            ]
          },
          "metadata": {},
          "output_type": "display_data"
        },
        {
          "name": "stdout",
          "output_type": "stream",
          "text": [
            "\n",
            "Detailed Classification Report:\n",
            "              precision    recall  f1-score   support\n",
            "\n",
            " barely-true       0.24      0.18      0.21       212\n",
            "       false       0.32      0.26      0.29       249\n",
            "   half-true       0.22      0.26      0.24       265\n",
            " mostly-true       0.27      0.42      0.33       241\n",
            "  pants-fire       0.32      0.11      0.16        92\n",
            "        true       0.30      0.26      0.28       208\n",
            "\n",
            "    accuracy                           0.27      1267\n",
            "   macro avg       0.28      0.25      0.25      1267\n",
            "weighted avg       0.27      0.27      0.26      1267\n",
            "\n",
            "\n",
            "=== Comparison of Models ===\n",
            "\n",
            "Metric\t\tWith Weights\tWithout Weights\tDifference\n",
            "------------------------------------------------------------\n",
            "macro_f1       \t0.262\t\t0.251\t\t+0.011\n",
            "macro_precision\t0.271\t\t0.279\t\t-0.008\n",
            "macro_recall   \t0.277\t\t0.249\t\t+0.027\n",
            "accuracy       \t0.264\t\t0.268\t\t-0.003\n"
          ]
        },
        {
          "data": {
            "image/png": "[encoded data removed]",
            "text/plain": [
              "<Figure size 1500x500 with 2 Axes>"
            ]
          },
          "metadata": {},
          "output_type": "display_data"
        }
      ],
      "source": [
        "if __name__ == \"__main__\":\n",
        "    torch.manual_seed(42)\n",
        "    np.random.seed(42)\n",
        "\n",
        "    # Set device\n",
        "    device = torch.device('cuda' if torch.cuda.is_available() else 'cpu')\n",
        "    print(f\"Using device: {device}\")\n",
        "\n",
        "    # Load data\n",
        "    train_df, valid_df, test_df = load_liar_dataset()\n",
        "\n",
        "    # Create data loaders\n",
        "    train_loader, valid_loader, test_loader, tokenizer = prepare_bert_dataloaders(\n",
        "        train_df, valid_df, test_df, batch_size=64)\n",
        "\n",
        "    # Train and compare models\n",
        "    results = train_and_compare_models(train_loader, valid_loader, test_loader, device)"
      ]
    },
    {
      "cell_type": "markdown",
      "metadata": {
        "id": "AdH1QF1LIrJ-"
      },
      "source": [
        "# IV. Conclusion"
      ]
    },
    {
      "cell_type": "markdown",
      "metadata": {
        "id": "xF92o3MZIrJ-"
      },
      "source": [
        "## IV.1 Performance Analysis & Comparative Discussion\n",
        "\n",
        "This study presents a systematic comparison of traditional statistical and advanced transformer-based approaches for automated fake news detection. Our analysis reveals several key findings and technical insights:\n",
        "\n",
        "### Quantitative Performance Analysis\n",
        "\n",
        "<div align=\"center\">\n",
        "\n",
        "Model Type | Accuracy | Macro F1 | Macro Precision | Macro Recall\n",
        ":---:|:---:|:---:|:---:|:---:\n",
        "Statistical (TF-IDF + NB) | 0.232 | 0.180 | 0.194 | 0.199\n",
        "BERT with weights | 0.249 | 0.249 | 0.255 | 0.260\n",
        "BERT without weights | 0.257 | 0.188 | 0.251 | 0.226\n",
        "\n",
        "</div>\n",
        "\n",
        "### Comparison with Previous Approaches\n",
        "Comparing our results with the original LIAR dataset paper (Wang, 2017):\n",
        "\n",
        "<div align=\"center\">\n",
        "\n",
        "Model Architecture | Test Accuracy | Comments\n",
        ":---:|:---:|:---:\n",
        "Our BERT (weighted) | 0.249 | Balanced performance across classes\n",
        "Original CNN | 0.270 | Best text-only performance\n",
        "Hybrid (Text + All) | 0.274 | Benefits from metadata integration\n",
        "Our Statistical | 0.232 | Comparable to majority baseline\n",
        "\n",
        "</div>\n",
        "\n",
        "### Class-wise Performance Analysis (BERT with weights)\n",
        "\n",
        "<div align=\"center\">\n",
        "\n",
        "Truth Label | Precision | Recall | F1-score\n",
        ":---:|:---:|:---:|:---:\n",
        "barely-true | 0.22 | 0.22 | 0.22\n",
        "false | 0.29 | 0.18 | 0.23\n",
        "half-true | 0.20 | 0.17 | 0.18\n",
        "mostly-true | 0.25 | 0.21 | 0.23\n",
        "pants-fire | 0.30 | 0.29 | 0.30\n",
        "true | 0.26 | 0.49 | 0.34\n",
        "\n",
        "</div>\n",
        "\n",
        "Our comparative analysis indicates that modern transformer architectures, while offering improvements over statistical baselines, still face significant challenges in automated fact-checking. The introduction of class weights demonstrated meaningful impact, particularly in addressing class imbalance issues:\n",
        "\n",
        "1. The weighted BERT model achieved more balanced performance across classes, with a +0.061 improvement in macro F1 score compared to its unweighted counterpart\n",
        "2. The statistical baseline, while computationally efficient, showed limitations in capturing subtle linguistic nuances\n",
        "3. Performance metrics suggest that additional contextual information, as demonstrated by the original paper's hybrid approaches, remains crucial for optimal classification"
      ]
    },
    {
      "cell_type": "markdown",
      "metadata": {
        "id": "p68co58oIrJ-"
      },
      "source": [
        "## IV.2 Project Summary and Reflections\n",
        "\n",
        "This investigation into automated fake news detection reveals both progress and persistent challenges in the field:\n",
        "\n",
        "### Technical Achievements and Limitations\n",
        "\n",
        "The implementation of both statistical and BERT-based approaches has demonstrated that:\n",
        "\n",
        "1. Transformer architectures offer improved performance over traditional methods, but the gains are modest compared to the computational requirements\n",
        "2. Class imbalance remains a significant challenge, though partially mitigated through weighting strategies\n",
        "3. The performance gap between text-only and hybrid approaches suggests the continued importance of metadata and contextual information\n",
        "\n",
        "### Future Research Directions\n",
        "\n",
        "Our findings suggest several promising avenues for advancement:\n",
        "\n",
        "1. Integration of metadata features with computational efficiency in mind, similar to the original LIAR paper's hybrid approaches that demonstrated superior performance through feature combinations while maintaining reasonable processing demands.\n",
        "\n",
        "2. Parameter-efficient transformer optimization, considering our current implementation uses full fine-tuning of all ~110M BERT parameters. Future work could explore selective layer freezing, adapters, or other efficient tuning methods to reduce computational costs while maintaining performance.\n",
        "\n",
        "3. Domain adaptation and transfer learning techniques to improve model generalization, particularly focusing on cross-domain knowledge transfer and adaptation to emerging misinformation patterns in different contexts.\n",
        "\n",
        "The relatively modest improvements over previous benchmarks underscore the complexity of automated fact-checking and suggest that future progress may require novel architectural approaches rather than incremental improvements to existing models. This aligns with recent findings about the multifaceted nature of misinformation and the importance of considering both textual and contextual features in verification systems."
      ]
    },
    {
      "cell_type": "markdown",
      "metadata": {
        "id": "co1XEG7JIrJ-"
      },
      "source": [
        "# V. References\n",
        "<br>\n",
        "1. Vosoughi, S., Roy, D., & Aral, S. (2018). The spread of true and false news online (Research Brief). MIT Initiative on the Digital Economy. https://ide.mit.edu/wp-content/uploads/2018/12/2017-IDE-Research-Brief-False-News.pdf<br>\n",
        "<br>\n",
        "2. Brennen, J. S., Simon, F., Howard, P. N., & Nielsen, R. K. (2020). Types, sources, and claims of COVID-19 misinformation. Reuters Institute for the Study of Journalism. https://reutersinstitute.politics.ox.ac.uk/types-sources-and-claims-covid-19-misinformation<br>\n",
        "<br>\n",
        "<br>\n",
        "3. Cavazos, R., & CHEQ. (2019). The Economic Cost of Bad Actors on the Internet: Fake News in 2019. University of Baltimore. https://www.ubalt.edu/news/news-releases.cfm?id=3425<br>\n",
        "<br>\n",
        "4. World Health Organization, UN, UNICEF, UNDP, UNESCO, UNAIDS, ITU, UN Global Pulse, & IFRC. (2020). Managing the COVID-19 infodemic: Promoting healthy behaviours and mitigating the harm from misinformation and disinformation. World Health Organization. https://www.who.int/news/item/23-09-2020-managing-the-covid-19-infodemic-promoting-healthy-behaviours-and-mitigating-the-harm-from-misinformation-and-disinformation<br>\n",
        "<br>\n",
        "5. Devlin, J., Chang, M. W., Lee, K., & Toutanova, K. (2019). BERT: Pre-training of deep bidirectional transformers for language understanding. In Proceedings of the 2019 Conference of the North American Chapter of the Association for Computational Linguistics: Human Language Technologies, Volume 1 (Long and Short Papers) (pp. 4171-4186). https://arxiv.org/pdf/1810.04805<br>\n",
        "<br>\n",
        "6. Zhou, X., Zafarani, R., Shu, K., & Liu, H. (2020). Fake news: Fundamental theories, detection strategies and challenges. In Proceedings of the 13th International Conference on Web Search and Data Mining (WSDM '20) (pp. 836-837). https://dl.acm.org/doi/10.1145/3289600.3291382<br>\n",
        "<br>\n",
        "7. Wang, W. Y. (2017). \"Liar, Liar Pants on Fire\": A New Benchmark Dataset for Fake News Detection. In Proceedings of the 55th Annual Meeting of the Association for Computational Linguistics (Volume 2: Short Papers) (pp. 422-426). https://arxiv.org/pdf/1705.00648v1<br>"
      ]
    },
    {
      "cell_type": "markdown",
      "metadata": {
        "id": "tR0dsk2PIrJ-"
      },
      "source": []
    }
  ],
  "metadata": {
    "kernelspec": {
      "display_name": "nlp",
      "language": "python",
      "name": "python3"
    },
    "language_info": {
      "codemirror_mode": {
        "name": "ipython",
        "version": 3
      },
      "file_extension": ".py",
      "mimetype": "text/x-python",
      "name": "python",
      "nbconvert_exporter": "python",
      "pygments_lexer": "ipython3",
      "version": "3.8.20"
    },
    "colab": {
      "provenance": []
    }
  },
  "nbformat": 4,
  "nbformat_minor": 0
}